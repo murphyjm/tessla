{
 "cells": [
  {
   "cell_type": "code",
   "execution_count": 1,
   "id": "a6847a47",
   "metadata": {},
   "outputs": [],
   "source": [
    "import os\n",
    "import pickle\n",
    "import numpy as np\n",
    "import pandas as pd\n",
    "from tessla.tesssystem import TessSystem\n",
    "from tessla.plotting_utils import sg_smoothing_plot, plot_individual_transits, quick_transit_plot, phase_plot\n",
    "from tessla.plotting_utils import plot_joint_corners\n",
    "from tessla.data_utils import find_breaks, quick_look_summary\n",
    "from tessla.threepanelphotplot import ThreePanelPhotPlot\n",
    "from tessla.rvplot import RVPlot\n",
    "from tessla.planet import Planet\n",
    "from tessla.stackedperiodogram import StackedPeriodogram\n",
    "\n",
    "%load_ext autoreload\n",
    "%autoreload 2"
   ]
  },
  {
   "cell_type": "markdown",
   "id": "78f8d5d2",
   "metadata": {},
   "source": [
    "## System-specific parameters"
   ]
  },
  {
   "cell_type": "code",
   "execution_count": 2,
   "id": "17c52dc9",
   "metadata": {},
   "outputs": [],
   "source": [
    "SYSTEM_NAME = \"TOI-669\"\n",
    "TIC_NUM = 124573851\n",
    "TOI_NUM = 669\n",
    "\n",
    "RV_DATA_PATH = 't000669_rv.csv'\n",
    "MANUAL_PLANET_PATH = None\n",
    "STAR_OBJ_PICKLE_PATH = 'T000669_iso_star_obj.pkl'\n",
    "JMAG = 9.557\n",
    "JMAG_ERR = 0.024\n",
    "\n",
    "OUTPUT_DIR_SUFFIX = ''\n",
    "\n",
    "COMPARE_AIC_FOR_TREND = True\n",
    "NO_TREND_OVERRIDE = False\n",
    "YES_TREND_OVERRIDE = False\n",
    "\n",
    "INCLUDE_SVALUE_GP = False\n",
    "FORCE_CIRCULAR_ORBITS = False"
   ]
  },
  {
   "cell_type": "markdown",
   "id": "9dd49077",
   "metadata": {},
   "source": [
    "# Build the TOI object"
   ]
  },
  {
   "cell_type": "code",
   "execution_count": 4,
   "id": "8dafee52",
   "metadata": {},
   "outputs": [
    {
     "name": "stdout",
     "output_type": "stream",
     "text": [
      "RV dataset detected. This will be a joint photometry-RV model.\n",
      "Removed 0 RVs for being outliers.\n"
     ]
    }
   ],
   "source": [
    "toi = TessSystem(SYSTEM_NAME, \n",
    "                    tic=TIC_NUM, \n",
    "                    toi=TOI_NUM,\n",
    "                    phot_gp_kernel='exp_decay',\n",
    "                    rv_data_path=RV_DATA_PATH,\n",
    "                    flux_origin=\"pdcsap_flux\",\n",
    "                    include_svalue_gp=INCLUDE_SVALUE_GP,\n",
    "                    force_circular_orbits_for_transiting_planets=FORCE_CIRCULAR_ORBITS,\n",
    "                    output_dir_suffix=OUTPUT_DIR_SUFFIX)"
   ]
  },
  {
   "cell_type": "markdown",
   "id": "b8b1a56e",
   "metadata": {},
   "source": [
    "## Quick inspection of the RVs and RV errors"
   ]
  },
  {
   "cell_type": "code",
   "execution_count": 5,
   "id": "d2894487",
   "metadata": {},
   "outputs": [],
   "source": [
    "import matplotlib.pyplot as plt\n",
    "def simple_plot(df, xkey, ykey, xlabel, ylabel, yerrkey=None):\n",
    "    for tel in np.unique(df.tel):\n",
    "        mask = df.tel == tel\n",
    "        if yerrkey is None:\n",
    "            plt.plot(df.loc[mask, xkey], df.loc[mask, ykey], '.', label=tel)\n",
    "        else:\n",
    "            plt.errorbar(df.loc[mask, xkey], df.loc[mask, ykey], df.loc[mask, yerrkey], fmt='.', label=tel)\n",
    "    plt.legend()\n",
    "    plt.xlabel(xlabel)\n",
    "    plt.ylabel(ylabel)\n",
    "    plt.show()"
   ]
  },
  {
   "cell_type": "code",
   "execution_count": 6,
   "id": "d9e2b20c",
   "metadata": {
    "scrolled": true
   },
   "outputs": [
    {
     "data": {
      "image/png": "[encoded data removed]",
      "text/plain": [
       "<Figure size 432x288 with 1 Axes>"
      ]
     },
     "metadata": {
      "needs_background": "light"
     },
     "output_type": "display_data"
    }
   ],
   "source": [
    "xkey = 'mnvel'\n",
    "ykey = 'errvel'\n",
    "xlabel = 'RV [m/s]'\n",
    "ylabel = '$\\sigma_\\mathrm{RV}$ [m/s]'\n",
    "\n",
    "simple_plot(toi.rv_df, xkey, ykey, xlabel, ylabel)"
   ]
  },
  {
   "cell_type": "markdown",
   "id": "71797e0c",
   "metadata": {},
   "source": [
    "## Get the photometry"
   ]
  },
  {
   "cell_type": "code",
   "execution_count": 7,
   "id": "dd4c0871",
   "metadata": {
    "scrolled": true
   },
   "outputs": [
    {
     "name": "stdout",
     "output_type": "stream",
     "text": [
      "Found 6 data products for TIC 124573851:\n",
      "SearchResult containing 6 data products.\n",
      "\n",
      " #     mission     year   author  exptime target_name distance\n",
      "                                     s                 arcsec \n",
      "--- -------------- ---- --------- ------- ----------- --------\n",
      "  0 TESS Sector 09 2019      SPOC     120   124573851      0.0\n",
      "  1 TESS Sector 09 2019 TESS-SPOC    1800   124573851      0.0\n",
      "  2 TESS Sector 09 2019       QLP    1800   124573851      0.0\n",
      "  3 TESS Sector 35 2021      SPOC     120   124573851      0.0\n",
      "  4 TESS Sector 35 2021 TESS-SPOC     600   124573851      0.0\n",
      "  5 TESS Sector 35 2021       QLP     600   124573851      0.0\n",
      "Extracting all 120 s cadence data...\n",
      "----------\n",
      "Data that will be used for modeling:\n",
      "SearchResult containing 2 data products.\n",
      "\n",
      " #     mission     year author exptime target_name distance\n",
      "                                  s                 arcsec \n",
      "--- -------------- ---- ------ ------- ----------- --------\n",
      "  0 TESS Sector 09 2019   SPOC     120   124573851      0.0\n",
      "  1 TESS Sector 35 2021   SPOC     120   124573851      0.0\n",
      "Identified 1 TOI(s) for TIC 124573851.\n",
      "----------\n",
      "Parameter Source Pipeline                      spoc-s01-s36-b0A-PC\n",
      "Detection Pipeline(s)                                         SPOC\n",
      "TIC                                                      124573851\n",
      "Full TOI ID                                                 669.01\n",
      "TOI Disposition                                                 PC\n",
      "TIC Right Ascension                                     158.900634\n",
      "TIC Declination                                          -5.181666\n",
      "TIC Right Ascension 2015.5                              158.900701\n",
      "TIC Declination 2015.5                                   -5.181374\n",
      "TMag Value                                                  10.137\n",
      "TMag Uncertainty                                             0.018\n",
      "Epoch Value                                            1546.142691\n",
      "Epoch Error                                               0.001898\n",
      "Orbital Period Value                                      3.945135\n",
      "Orbital Period Error                                      0.000022\n",
      "Transit Duration Value                                    2.922785\n",
      "Transit Duration Error                                    0.319033\n",
      "Transit Depth Value                                     629.397456\n",
      "Transit Depth Error                                       48.86566\n",
      "Sectors                                                    [9, 35]\n",
      "Public Comment                                                 NaN\n",
      "Surface Gravity Value                                         4.13\n",
      "Surface Gravity Uncertainty                                   0.12\n",
      "Signal ID                                                        1\n",
      "Star Radius Value                                         0.989198\n",
      "Star Radius Error                                         0.041809\n",
      "Planet Radius Value                                       2.658512\n",
      "Planet Radius Error                                       0.593237\n",
      "Planet Equilibrium Temperature (K) Value               1117.211072\n",
      "Effective Temperature Value                                 5581.9\n",
      "Effective Temperature Uncertainty                             76.0\n",
      "Effective Stellar Flux Value                            368.181469\n",
      "Signal-to-noise                                          11.905396\n",
      "Centroid Offset                                              False\n",
      "TFOP Master                                                      2\n",
      "TFOP SG1a                                                        4\n",
      "TFOP SG1b                                                        2\n",
      "TFOP SG2                                                         2\n",
      "TFOP SG3                                                         4\n",
      "TFOP SG4                                                         4\n",
      "TFOP SG5                                                         4\n",
      "Alerted                                     2019-05-06 19:17:04+00\n",
      "Updated                                     2021-09-28 18:07:27+00\n",
      "Name: 68, dtype: object\n",
      "----------\n"
     ]
    }
   ],
   "source": [
    "toi.get_tess_phot()\n",
    "toi.search_for_tois()\n",
    "toi.add_tois_from_catalog()"
   ]
  },
  {
   "cell_type": "markdown",
   "id": "65785aa3",
   "metadata": {},
   "source": [
    "## Initial Savitsky-Golay outlier rejection"
   ]
  },
  {
   "cell_type": "code",
   "execution_count": 8,
   "id": "663ee46d",
   "metadata": {},
   "outputs": [
    {
     "name": "stdout",
     "output_type": "stream",
     "text": [
      "Must use an odd window size. Changing window size from 720 to 721.\n",
      "SG smoothing and outlier removal converged after 3 iterations.\n",
      "95 3-sigma outliers identified.\n"
     ]
    }
   ],
   "source": [
    "toi.initial_outlier_removal(positive_outliers_only=False, max_iters=10, sigma_thresh=3, time_window=1)"
   ]
  },
  {
   "cell_type": "code",
   "execution_count": 9,
   "id": "9302e237",
   "metadata": {
    "scrolled": false
   },
   "outputs": [
    {
     "name": "stdout",
     "output_type": "stream",
     "text": [
      "SG smoothing plots saved to TOI-669/joint_model/plotting\n"
     ]
    }
   ],
   "source": [
    "sg_smoothing_plot(toi)"
   ]
  },
  {
   "cell_type": "code",
   "execution_count": 10,
   "id": "a08dca09",
   "metadata": {},
   "outputs": [
    {
     "name": "stdout",
     "output_type": "stream",
     "text": [
      "Periodogram plot saved to TOI-669/periodograms\n"
     ]
    },
    {
     "data": {
      "text/plain": [
       "(7.999515275649369,\n",
       " 1.5,\n",
       " (<Figure size 432x288 with 1 Axes>,\n",
       "  <AxesSubplot:title={'center':'TOI-669 OoT Photometry LS Periodogram'}, xlabel='Period [days]', ylabel='LS power'>))"
      ]
     },
     "execution_count": 10,
     "metadata": {},
     "output_type": "execute_result"
    }
   ],
   "source": [
    "toi.oot_periodogram(**{'label_peaks':False})"
   ]
  },
  {
   "cell_type": "markdown",
   "id": "454d6a42",
   "metadata": {},
   "source": [
    "## Add the star object"
   ]
  },
  {
   "cell_type": "code",
   "execution_count": 11,
   "id": "2c8b7f46",
   "metadata": {},
   "outputs": [],
   "source": [
    "with open('T000669_iso_star_obj.pkl', 'rb') as star_fname:\n",
    "        star = pickle.load(star_fname)\n",
    "        star.inflate_star_mass_and_rad_errs() # Inflate the error bars on according to Tayar et al. 2022\n",
    "        toi.add_star_props(star)\n",
    "\n",
    "# So TSM value is calculated\n",
    "toi.star.jmag = JMAG\n",
    "toi.star.jmag_err = JMAG_ERR"
   ]
  },
  {
   "cell_type": "code",
   "execution_count": 12,
   "id": "86d4ba8f",
   "metadata": {},
   "outputs": [
    {
     "name": "stdout",
     "output_type": "stream",
     "text": [
      "Planet b t0 updated from 1.44 to 368.34 [BJD - 2458544.70] to reduce P and t0 covariance.\n"
     ]
    }
   ],
   "source": [
    "toi.update_t0s_to_near_data_middle()"
   ]
  },
  {
   "cell_type": "markdown",
   "id": "e6438ed3",
   "metadata": {},
   "source": [
    "## Initial transit fitting and outlier rejection"
   ]
  },
  {
   "cell_type": "code",
   "execution_count": 20,
   "id": "6a6e7e29",
   "metadata": {
    "scrolled": true
   },
   "outputs": [
    {
     "name": "stdout",
     "output_type": "stream",
     "text": [
      "Entering optimization and outlier rejection loop...\n",
      "====================\n",
      "Optimization and outlier rejection iteration number 1.\n",
      "====================\n"
     ]
    },
    {
     "name": "stderr",
     "output_type": "stream",
     "text": [
      "optimizing logp for variables: [log_sigma_phot]\n"
     ]
    },
    {
     "data": {
      "text/html": [
       "\n",
       "    <div>\n",
       "        <style>\n",
       "            /* Turns off some styling */\n",
       "            progress {\n",
       "                /* gets rid of default border in Firefox and Opera. */\n",
       "                border: none;\n",
       "                /* Needs to be in here for Safari polyfill so background images work as expected. */\n",
       "                background-size: auto;\n",
       "            }\n",
       "            .progress-bar-interrupted, .progress-bar-interrupted::-webkit-progress-bar {\n",
       "                background: #F44336;\n",
       "            }\n",
       "        </style>\n",
       "      <progress value='18' class='' max='18' style='width:300px; height:20px; vertical-align: middle;'></progress>\n",
       "      100.00% [18/18 00:00<00:00 logp = -4.327e+04]\n",
       "    </div>\n",
       "    "
      ],
      "text/plain": [
       "<IPython.core.display.HTML object>"
      ]
     },
     "metadata": {},
     "output_type": "display_data"
    },
    {
     "name": "stdout",
     "output_type": "stream",
     "text": [
      "\n"
     ]
    },
    {
     "name": "stderr",
     "output_type": "stream",
     "text": [
      "message: Optimization terminated successfully.\n",
      "logp: -46243.807902110304 -> -43274.200855946205\n",
      "optimizing logp for variables: [log_tau_phot_gp, log_rho_phot_gp, log_sigma_phot_gp]\n"
     ]
    },
    {
     "data": {
      "text/html": [
       "\n",
       "    <div>\n",
       "        <style>\n",
       "            /* Turns off some styling */\n",
       "            progress {\n",
       "                /* gets rid of default border in Firefox and Opera. */\n",
       "                border: none;\n",
       "                /* Needs to be in here for Safari polyfill so background images work as expected. */\n",
       "                background-size: auto;\n",
       "            }\n",
       "            .progress-bar-interrupted, .progress-bar-interrupted::-webkit-progress-bar {\n",
       "                background: #F44336;\n",
       "            }\n",
       "        </style>\n",
       "      <progress value='19' class='' max='19' style='width:300px; height:20px; vertical-align: middle;'></progress>\n",
       "      100.00% [19/19 00:00<00:00 logp = -4.324e+04]\n",
       "    </div>\n",
       "    "
      ],
      "text/plain": [
       "<IPython.core.display.HTML object>"
      ]
     },
     "metadata": {},
     "output_type": "display_data"
    },
    {
     "name": "stdout",
     "output_type": "stream",
     "text": [
      "\n"
     ]
    },
    {
     "name": "stderr",
     "output_type": "stream",
     "text": [
      "message: Optimization terminated successfully.\n",
      "logp: -43274.200855946205 -> -43240.18371830349\n",
      "optimizing logp for variables: [log_ror]\n"
     ]
    },
    {
     "data": {
      "text/html": [
       "\n",
       "    <div>\n",
       "        <style>\n",
       "            /* Turns off some styling */\n",
       "            progress {\n",
       "                /* gets rid of default border in Firefox and Opera. */\n",
       "                border: none;\n",
       "                /* Needs to be in here for Safari polyfill so background images work as expected. */\n",
       "                background-size: auto;\n",
       "            }\n",
       "            .progress-bar-interrupted, .progress-bar-interrupted::-webkit-progress-bar {\n",
       "                background: #F44336;\n",
       "            }\n",
       "        </style>\n",
       "      <progress value='45' class='' max='45' style='width:300px; height:20px; vertical-align: middle;'></progress>\n",
       "      100.00% [45/45 00:00<00:00 logp = -4.324e+04]\n",
       "    </div>\n",
       "    "
      ],
      "text/plain": [
       "<IPython.core.display.HTML object>"
      ]
     },
     "metadata": {},
     "output_type": "display_data"
    },
    {
     "name": "stdout",
     "output_type": "stream",
     "text": [
      "\n"
     ]
    },
    {
     "name": "stderr",
     "output_type": "stream",
     "text": [
      "message: Desired error not necessarily achieved due to precision loss.\n",
      "logp: -43240.18371830349 -> -43240.183347034086\n",
      "optimizing logp for variables: [b]\n"
     ]
    },
    {
     "data": {
      "text/html": [
       "\n",
       "    <div>\n",
       "        <style>\n",
       "            /* Turns off some styling */\n",
       "            progress {\n",
       "                /* gets rid of default border in Firefox and Opera. */\n",
       "                border: none;\n",
       "                /* Needs to be in here for Safari polyfill so background images work as expected. */\n",
       "                background-size: auto;\n",
       "            }\n",
       "            .progress-bar-interrupted, .progress-bar-interrupted::-webkit-progress-bar {\n",
       "                background: #F44336;\n",
       "            }\n",
       "        </style>\n",
       "      <progress value='5' class='' max='5' style='width:300px; height:20px; vertical-align: middle;'></progress>\n",
       "      100.00% [5/5 00:00<00:00 logp = -4.324e+04]\n",
       "    </div>\n",
       "    "
      ],
      "text/plain": [
       "<IPython.core.display.HTML object>"
      ]
     },
     "metadata": {},
     "output_type": "display_data"
    },
    {
     "name": "stderr",
     "output_type": "stream",
     "text": [
      "message: Optimization terminated successfully.\n",
      "logp: -43240.183347034086 -> -43240.18330039327\n"
     ]
    },
    {
     "name": "stdout",
     "output_type": "stream",
     "text": [
      "\n"
     ]
    },
    {
     "name": "stderr",
     "output_type": "stream",
     "text": [
      "optimizing logp for variables: [log_dur]\n"
     ]
    },
    {
     "data": {
      "text/html": [
       "\n",
       "    <div>\n",
       "        <style>\n",
       "            /* Turns off some styling */\n",
       "            progress {\n",
       "                /* gets rid of default border in Firefox and Opera. */\n",
       "                border: none;\n",
       "                /* Needs to be in here for Safari polyfill so background images work as expected. */\n",
       "                background-size: auto;\n",
       "            }\n",
       "            .progress-bar-interrupted, .progress-bar-interrupted::-webkit-progress-bar {\n",
       "                background: #F44336;\n",
       "            }\n",
       "        </style>\n",
       "      <progress value='62' class='' max='62' style='width:300px; height:20px; vertical-align: middle;'></progress>\n",
       "      100.00% [62/62 00:00<00:00 logp = -4.324e+04]\n",
       "    </div>\n",
       "    "
      ],
      "text/plain": [
       "<IPython.core.display.HTML object>"
      ]
     },
     "metadata": {},
     "output_type": "display_data"
    },
    {
     "name": "stdout",
     "output_type": "stream",
     "text": [
      "\n"
     ]
    },
    {
     "name": "stderr",
     "output_type": "stream",
     "text": [
      "message: Desired error not necessarily achieved due to precision loss.\n",
      "logp: -43240.18330039327 -> -43239.133497745664\n",
      "optimizing logp for variables: [t0, log_period]\n"
     ]
    },
    {
     "data": {
      "text/html": [
       "\n",
       "    <div>\n",
       "        <style>\n",
       "            /* Turns off some styling */\n",
       "            progress {\n",
       "                /* gets rid of default border in Firefox and Opera. */\n",
       "                border: none;\n",
       "                /* Needs to be in here for Safari polyfill so background images work as expected. */\n",
       "                background-size: auto;\n",
       "            }\n",
       "            .progress-bar-interrupted, .progress-bar-interrupted::-webkit-progress-bar {\n",
       "                background: #F44336;\n",
       "            }\n",
       "        </style>\n",
       "      <progress value='22' class='' max='22' style='width:300px; height:20px; vertical-align: middle;'></progress>\n",
       "      100.00% [22/22 00:00<00:00 logp = -4.324e+04]\n",
       "    </div>\n",
       "    "
      ],
      "text/plain": [
       "<IPython.core.display.HTML object>"
      ]
     },
     "metadata": {},
     "output_type": "display_data"
    },
    {
     "name": "stdout",
     "output_type": "stream",
     "text": [
      "\n"
     ]
    },
    {
     "name": "stderr",
     "output_type": "stream",
     "text": [
      "message: Desired error not necessarily achieved due to precision loss.\n",
      "logp: -43239.133497745664 -> -43238.06624012717\n",
      "optimizing logp for variables: [u]\n"
     ]
    },
    {
     "data": {
      "text/html": [
       "\n",
       "    <div>\n",
       "        <style>\n",
       "            /* Turns off some styling */\n",
       "            progress {\n",
       "                /* gets rid of default border in Firefox and Opera. */\n",
       "                border: none;\n",
       "                /* Needs to be in here for Safari polyfill so background images work as expected. */\n",
       "                background-size: auto;\n",
       "            }\n",
       "            .progress-bar-interrupted, .progress-bar-interrupted::-webkit-progress-bar {\n",
       "                background: #F44336;\n",
       "            }\n",
       "        </style>\n",
       "      <progress value='7' class='' max='7' style='width:300px; height:20px; vertical-align: middle;'></progress>\n",
       "      100.00% [7/7 00:00<00:00 logp = -4.324e+04]\n",
       "    </div>\n",
       "    "
      ],
      "text/plain": [
       "<IPython.core.display.HTML object>"
      ]
     },
     "metadata": {},
     "output_type": "display_data"
    },
    {
     "name": "stderr",
     "output_type": "stream",
     "text": [
      "message: Optimization terminated successfully.\n",
      "logp: -43238.06624012716 -> -43237.983525644544\n"
     ]
    },
    {
     "name": "stdout",
     "output_type": "stream",
     "text": [
      "\n"
     ]
    },
    {
     "name": "stderr",
     "output_type": "stream",
     "text": [
      "optimizing logp for variables: [log_ror]\n"
     ]
    },
    {
     "data": {
      "text/html": [
       "\n",
       "    <div>\n",
       "        <style>\n",
       "            /* Turns off some styling */\n",
       "            progress {\n",
       "                /* gets rid of default border in Firefox and Opera. */\n",
       "                border: none;\n",
       "                /* Needs to be in here for Safari polyfill so background images work as expected. */\n",
       "                background-size: auto;\n",
       "            }\n",
       "            .progress-bar-interrupted, .progress-bar-interrupted::-webkit-progress-bar {\n",
       "                background: #F44336;\n",
       "            }\n",
       "        </style>\n",
       "      <progress value='8' class='' max='8' style='width:300px; height:20px; vertical-align: middle;'></progress>\n",
       "      100.00% [8/8 00:00<00:00 logp = -4.324e+04]\n",
       "    </div>\n",
       "    "
      ],
      "text/plain": [
       "<IPython.core.display.HTML object>"
      ]
     },
     "metadata": {},
     "output_type": "display_data"
    },
    {
     "name": "stderr",
     "output_type": "stream",
     "text": [
      "message: Optimization terminated successfully.\n",
      "logp: -43237.983525644544 -> -43237.88790885584\n"
     ]
    },
    {
     "name": "stdout",
     "output_type": "stream",
     "text": [
      "\n"
     ]
    },
    {
     "name": "stderr",
     "output_type": "stream",
     "text": [
      "optimizing logp for variables: [b]\n"
     ]
    },
    {
     "data": {
      "text/html": [
       "\n",
       "    <div>\n",
       "        <style>\n",
       "            /* Turns off some styling */\n",
       "            progress {\n",
       "                /* gets rid of default border in Firefox and Opera. */\n",
       "                border: none;\n",
       "                /* Needs to be in here for Safari polyfill so background images work as expected. */\n",
       "                background-size: auto;\n",
       "            }\n",
       "            .progress-bar-interrupted, .progress-bar-interrupted::-webkit-progress-bar {\n",
       "                background: #F44336;\n",
       "            }\n",
       "        </style>\n",
       "      <progress value='6' class='' max='6' style='width:300px; height:20px; vertical-align: middle;'></progress>\n",
       "      100.00% [6/6 00:00<00:00 logp = -4.324e+04]\n",
       "    </div>\n",
       "    "
      ],
      "text/plain": [
       "<IPython.core.display.HTML object>"
      ]
     },
     "metadata": {},
     "output_type": "display_data"
    },
    {
     "name": "stderr",
     "output_type": "stream",
     "text": [
      "message: Optimization terminated successfully.\n",
      "logp: -43237.88790885584 -> -43237.88240448674\n"
     ]
    },
    {
     "name": "stdout",
     "output_type": "stream",
     "text": [
      "\n"
     ]
    },
    {
     "name": "stderr",
     "output_type": "stream",
     "text": [
      "optimizing logp for variables: [log_dur]\n"
     ]
    },
    {
     "data": {
      "text/html": [
       "\n",
       "    <div>\n",
       "        <style>\n",
       "            /* Turns off some styling */\n",
       "            progress {\n",
       "                /* gets rid of default border in Firefox and Opera. */\n",
       "                border: none;\n",
       "                /* Needs to be in here for Safari polyfill so background images work as expected. */\n",
       "                background-size: auto;\n",
       "            }\n",
       "            .progress-bar-interrupted, .progress-bar-interrupted::-webkit-progress-bar {\n",
       "                background: #F44336;\n",
       "            }\n",
       "        </style>\n",
       "      <progress value='10' class='' max='10' style='width:300px; height:20px; vertical-align: middle;'></progress>\n",
       "      100.00% [10/10 00:00<00:00 logp = -4.324e+04]\n",
       "    </div>\n",
       "    "
      ],
      "text/plain": [
       "<IPython.core.display.HTML object>"
      ]
     },
     "metadata": {},
     "output_type": "display_data"
    },
    {
     "name": "stdout",
     "output_type": "stream",
     "text": [
      "\n"
     ]
    },
    {
     "name": "stderr",
     "output_type": "stream",
     "text": [
      "message: Optimization terminated successfully.\n",
      "logp: -43237.88240448674 -> -43237.84229616845\n",
      "optimizing logp for variables: [mean_flux]\n"
     ]
    },
    {
     "data": {
      "text/html": [
       "\n",
       "    <div>\n",
       "        <style>\n",
       "            /* Turns off some styling */\n",
       "            progress {\n",
       "                /* gets rid of default border in Firefox and Opera. */\n",
       "                border: none;\n",
       "                /* Needs to be in here for Safari polyfill so background images work as expected. */\n",
       "                background-size: auto;\n",
       "            }\n",
       "            .progress-bar-interrupted, .progress-bar-interrupted::-webkit-progress-bar {\n",
       "                background: #F44336;\n",
       "            }\n",
       "        </style>\n",
       "      <progress value='4' class='' max='4' style='width:300px; height:20px; vertical-align: middle;'></progress>\n",
       "      100.00% [4/4 00:00<00:00 logp = -4.324e+04]\n",
       "    </div>\n",
       "    "
      ],
      "text/plain": [
       "<IPython.core.display.HTML object>"
      ]
     },
     "metadata": {},
     "output_type": "display_data"
    },
    {
     "name": "stderr",
     "output_type": "stream",
     "text": [
      "message: Optimization terminated successfully.\n",
      "logp: -43237.84229616845 -> -43236.35415228329\n"
     ]
    },
    {
     "name": "stdout",
     "output_type": "stream",
     "text": [
      "\n"
     ]
    },
    {
     "name": "stderr",
     "output_type": "stream",
     "text": [
      "optimizing logp for variables: [log_sigma_phot]\n"
     ]
    },
    {
     "data": {
      "text/html": [
       "\n",
       "    <div>\n",
       "        <style>\n",
       "            /* Turns off some styling */\n",
       "            progress {\n",
       "                /* gets rid of default border in Firefox and Opera. */\n",
       "                border: none;\n",
       "                /* Needs to be in here for Safari polyfill so background images work as expected. */\n",
       "                background-size: auto;\n",
       "            }\n",
       "            .progress-bar-interrupted, .progress-bar-interrupted::-webkit-progress-bar {\n",
       "                background: #F44336;\n",
       "            }\n",
       "        </style>\n",
       "      <progress value='4' class='' max='4' style='width:300px; height:20px; vertical-align: middle;'></progress>\n",
       "      100.00% [4/4 00:00<00:00 logp = -4.324e+04]\n",
       "    </div>\n",
       "    "
      ],
      "text/plain": [
       "<IPython.core.display.HTML object>"
      ]
     },
     "metadata": {},
     "output_type": "display_data"
    },
    {
     "name": "stderr",
     "output_type": "stream",
     "text": [
      "message: Optimization terminated successfully.\n",
      "logp: -43236.35415228329 -> -43236.35412986808\n"
     ]
    },
    {
     "name": "stdout",
     "output_type": "stream",
     "text": [
      "\n"
     ]
    },
    {
     "name": "stderr",
     "output_type": "stream",
     "text": [
      "optimizing logp for variables: [log_tau_phot_gp, log_rho_phot_gp, log_sigma_phot_gp]\n"
     ]
    },
    {
     "data": {
      "text/html": [
       "\n",
       "    <div>\n",
       "        <style>\n",
       "            /* Turns off some styling */\n",
       "            progress {\n",
       "                /* gets rid of default border in Firefox and Opera. */\n",
       "                border: none;\n",
       "                /* Needs to be in here for Safari polyfill so background images work as expected. */\n",
       "                background-size: auto;\n",
       "            }\n",
       "            .progress-bar-interrupted, .progress-bar-interrupted::-webkit-progress-bar {\n",
       "                background: #F44336;\n",
       "            }\n",
       "        </style>\n",
       "      <progress value='12' class='' max='12' style='width:300px; height:20px; vertical-align: middle;'></progress>\n",
       "      100.00% [12/12 00:00<00:00 logp = -4.324e+04]\n",
       "    </div>\n",
       "    "
      ],
      "text/plain": [
       "<IPython.core.display.HTML object>"
      ]
     },
     "metadata": {},
     "output_type": "display_data"
    },
    {
     "name": "stdout",
     "output_type": "stream",
     "text": [
      "\n"
     ]
    },
    {
     "name": "stderr",
     "output_type": "stream",
     "text": [
      "message: Optimization terminated successfully.\n",
      "logp: -43236.35412986808 -> -43236.09154897745\n",
      "optimizing logp for variables: [log_tau_phot_gp, log_rho_phot_gp, log_sigma_phot_gp, log_sigma_phot, log_dur, b, log_ror, log_period, t0, u, mean_flux]\n"
     ]
    },
    {
     "data": {
      "text/html": [
       "\n",
       "    <div>\n",
       "        <style>\n",
       "            /* Turns off some styling */\n",
       "            progress {\n",
       "                /* gets rid of default border in Firefox and Opera. */\n",
       "                border: none;\n",
       "                /* Needs to be in here for Safari polyfill so background images work as expected. */\n",
       "                background-size: auto;\n",
       "            }\n",
       "            .progress-bar-interrupted, .progress-bar-interrupted::-webkit-progress-bar {\n",
       "                background: #F44336;\n",
       "            }\n",
       "        </style>\n",
       "      <progress value='32' class='' max='32' style='width:300px; height:20px; vertical-align: middle;'></progress>\n",
       "      100.00% [32/32 00:00<00:00 logp = -4.324e+04]\n",
       "    </div>\n",
       "    "
      ],
      "text/plain": [
       "<IPython.core.display.HTML object>"
      ]
     },
     "metadata": {},
     "output_type": "display_data"
    },
    {
     "name": "stdout",
     "output_type": "stream",
     "text": [
      "\n"
     ]
    },
    {
     "name": "stderr",
     "output_type": "stream",
     "text": [
      "message: Desired error not necessarily achieved due to precision loss.\n",
      "logp: -43236.091548977456 -> -43235.9527164249\n"
     ]
    },
    {
     "name": "stdout",
     "output_type": "stream",
     "text": [
      "MAP fitting and 7-sigma outlier removal converged in 1 iterations.\n",
      "0 outlier(s) removed.\n",
      "Updating transiting planet properties to MAP solution values\n"
     ]
    }
   ],
   "source": [
    "model = toi.flatten_light_curve()"
   ]
  },
  {
   "cell_type": "code",
   "execution_count": 21,
   "id": "37bcdfd3",
   "metadata": {},
   "outputs": [],
   "source": [
    "phot_plot = ThreePanelPhotPlot(toi,\n",
    "                                use_broken_x_axis=True, \n",
    "                                plot_random_transit_draws=False,\n",
    "                                num_random_transit_draws=0)"
   ]
  },
  {
   "cell_type": "code",
   "execution_count": 22,
   "id": "d1d2be8f",
   "metadata": {},
   "outputs": [
    {
     "name": "stdout",
     "output_type": "stream",
     "text": [
      "Creating three panel plot...\n",
      "break_ind = 15172\n",
      "Gap between 23.78 and 711.14 BTJD\n",
      "=======\n",
      "Photometry model plot saved to TOI-669/joint_model/plotting/TOI-669_phot_model_phot_only.png\n"
     ]
    }
   ],
   "source": [
    "phot_plot.plot(save_fname=f\"{toi.name.replace(' ', '_')}_phot_model_phot_only\", \n",
    "               overwrite=True)"
   ]
  },
  {
   "cell_type": "markdown",
   "id": "feef002d",
   "metadata": {},
   "source": [
    "## Is an RV trend preferred?"
   ]
  },
  {
   "cell_type": "code",
   "execution_count": 23,
   "id": "68879c3f",
   "metadata": {
    "scrolled": true
   },
   "outputs": [
    {
     "name": "stderr",
     "output_type": "stream",
     "text": [
      "optimizing logp for variables: [log_sigma_phot]\n"
     ]
    },
    {
     "data": {
      "text/html": [
       "\n",
       "    <div>\n",
       "        <style>\n",
       "            /* Turns off some styling */\n",
       "            progress {\n",
       "                /* gets rid of default border in Firefox and Opera. */\n",
       "                border: none;\n",
       "                /* Needs to be in here for Safari polyfill so background images work as expected. */\n",
       "                background-size: auto;\n",
       "            }\n",
       "            .progress-bar-interrupted, .progress-bar-interrupted::-webkit-progress-bar {\n",
       "                background: #F44336;\n",
       "            }\n",
       "        </style>\n",
       "      <progress value='5' class='' max='5' style='width:300px; height:20px; vertical-align: middle;'></progress>\n",
       "      100.00% [5/5 00:00<00:00 logp = -4.359e+04]\n",
       "    </div>\n",
       "    "
      ],
      "text/plain": [
       "<IPython.core.display.HTML object>"
      ]
     },
     "metadata": {},
     "output_type": "display_data"
    },
    {
     "name": "stdout",
     "output_type": "stream",
     "text": [
      "\n"
     ]
    },
    {
     "name": "stderr",
     "output_type": "stream",
     "text": [
      "message: Optimization terminated successfully.\n",
      "logp: -43587.204923205216 -> -43587.20461927584\n",
      "optimizing logp for variables: [u]\n"
     ]
    },
    {
     "data": {
      "text/html": [
       "\n",
       "    <div>\n",
       "        <style>\n",
       "            /* Turns off some styling */\n",
       "            progress {\n",
       "                /* gets rid of default border in Firefox and Opera. */\n",
       "                border: none;\n",
       "                /* Needs to be in here for Safari polyfill so background images work as expected. */\n",
       "                background-size: auto;\n",
       "            }\n",
       "            .progress-bar-interrupted, .progress-bar-interrupted::-webkit-progress-bar {\n",
       "                background: #F44336;\n",
       "            }\n",
       "        </style>\n",
       "      <progress value='10' class='' max='10' style='width:300px; height:20px; vertical-align: middle;'></progress>\n",
       "      100.00% [10/10 00:00<00:00 logp = -4.358e+04]\n",
       "    </div>\n",
       "    "
      ],
      "text/plain": [
       "<IPython.core.display.HTML object>"
      ]
     },
     "metadata": {},
     "output_type": "display_data"
    },
    {
     "name": "stdout",
     "output_type": "stream",
     "text": [
      "\n"
     ]
    },
    {
     "name": "stderr",
     "output_type": "stream",
     "text": [
      "message: Optimization terminated successfully.\n",
      "logp: -43587.20461927584 -> -43581.24945091413\n",
      "optimizing logp for variables: [log_ror]\n"
     ]
    },
    {
     "data": {
      "text/html": [
       "\n",
       "    <div>\n",
       "        <style>\n",
       "            /* Turns off some styling */\n",
       "            progress {\n",
       "                /* gets rid of default border in Firefox and Opera. */\n",
       "                border: none;\n",
       "                /* Needs to be in here for Safari polyfill so background images work as expected. */\n",
       "                background-size: auto;\n",
       "            }\n",
       "            .progress-bar-interrupted, .progress-bar-interrupted::-webkit-progress-bar {\n",
       "                background: #F44336;\n",
       "            }\n",
       "        </style>\n",
       "      <progress value='12' class='' max='12' style='width:300px; height:20px; vertical-align: middle;'></progress>\n",
       "      100.00% [12/12 00:00<00:00 logp = -4.357e+04]\n",
       "    </div>\n",
       "    "
      ],
      "text/plain": [
       "<IPython.core.display.HTML object>"
      ]
     },
     "metadata": {},
     "output_type": "display_data"
    },
    {
     "name": "stdout",
     "output_type": "stream",
     "text": [
      "\n"
     ]
    },
    {
     "name": "stderr",
     "output_type": "stream",
     "text": [
      "message: Optimization terminated successfully.\n",
      "logp: -43581.24945091413 -> -43573.10443774429\n",
      "optimizing logp for variables: [log_K]\n"
     ]
    },
    {
     "data": {
      "text/html": [
       "\n",
       "    <div>\n",
       "        <style>\n",
       "            /* Turns off some styling */\n",
       "            progress {\n",
       "                /* gets rid of default border in Firefox and Opera. */\n",
       "                border: none;\n",
       "                /* Needs to be in here for Safari polyfill so background images work as expected. */\n",
       "                background-size: auto;\n",
       "            }\n",
       "            .progress-bar-interrupted, .progress-bar-interrupted::-webkit-progress-bar {\n",
       "                background: #F44336;\n",
       "            }\n",
       "        </style>\n",
       "      <progress value='8' class='' max='8' style='width:300px; height:20px; vertical-align: middle;'></progress>\n",
       "      100.00% [8/8 00:00<00:00 logp = -4.357e+04]\n",
       "    </div>\n",
       "    "
      ],
      "text/plain": [
       "<IPython.core.display.HTML object>"
      ]
     },
     "metadata": {},
     "output_type": "display_data"
    },
    {
     "name": "stdout",
     "output_type": "stream",
     "text": [
      "\n"
     ]
    },
    {
     "name": "stderr",
     "output_type": "stream",
     "text": [
      "message: Optimization terminated successfully.\n",
      "logp: -43573.10443774429 -> -43571.867121355324\n",
      "optimizing logp for variables: [b]\n"
     ]
    },
    {
     "data": {
      "text/html": [
       "\n",
       "    <div>\n",
       "        <style>\n",
       "            /* Turns off some styling */\n",
       "            progress {\n",
       "                /* gets rid of default border in Firefox and Opera. */\n",
       "                border: none;\n",
       "                /* Needs to be in here for Safari polyfill so background images work as expected. */\n",
       "                background-size: auto;\n",
       "            }\n",
       "            .progress-bar-interrupted, .progress-bar-interrupted::-webkit-progress-bar {\n",
       "                background: #F44336;\n",
       "            }\n",
       "        </style>\n",
       "      <progress value='10' class='' max='10' style='width:300px; height:20px; vertical-align: middle;'></progress>\n",
       "      100.00% [10/10 00:00<00:00 logp = -4.357e+04]\n",
       "    </div>\n",
       "    "
      ],
      "text/plain": [
       "<IPython.core.display.HTML object>"
      ]
     },
     "metadata": {},
     "output_type": "display_data"
    },
    {
     "name": "stdout",
     "output_type": "stream",
     "text": [
      "\n"
     ]
    },
    {
     "name": "stderr",
     "output_type": "stream",
     "text": [
      "message: Optimization terminated successfully.\n",
      "logp: -43571.867121355324 -> -43570.13907628202\n",
      "optimizing logp for variables: [ecs]\n"
     ]
    },
    {
     "data": {
      "text/html": [
       "\n",
       "    <div>\n",
       "        <style>\n",
       "            /* Turns off some styling */\n",
       "            progress {\n",
       "                /* gets rid of default border in Firefox and Opera. */\n",
       "                border: none;\n",
       "                /* Needs to be in here for Safari polyfill so background images work as expected. */\n",
       "                background-size: auto;\n",
       "            }\n",
       "            .progress-bar-interrupted, .progress-bar-interrupted::-webkit-progress-bar {\n",
       "                background: #F44336;\n",
       "            }\n",
       "        </style>\n",
       "      <progress value='29' class='' max='29' style='width:300px; height:20px; vertical-align: middle;'></progress>\n",
       "      100.00% [29/29 00:00<00:00 logp = -4.357e+04]\n",
       "    </div>\n",
       "    "
      ],
      "text/plain": [
       "<IPython.core.display.HTML object>"
      ]
     },
     "metadata": {},
     "output_type": "display_data"
    },
    {
     "name": "stdout",
     "output_type": "stream",
     "text": [
      "\n"
     ]
    },
    {
     "name": "stderr",
     "output_type": "stream",
     "text": [
      "message: Optimization terminated successfully.\n",
      "logp: -43570.13907628202 -> -43566.48233776808\n",
      "optimizing logp for variables: [gamma_rv]\n"
     ]
    },
    {
     "data": {
      "text/html": [
       "\n",
       "    <div>\n",
       "        <style>\n",
       "            /* Turns off some styling */\n",
       "            progress {\n",
       "                /* gets rid of default border in Firefox and Opera. */\n",
       "                border: none;\n",
       "                /* Needs to be in here for Safari polyfill so background images work as expected. */\n",
       "                background-size: auto;\n",
       "            }\n",
       "            .progress-bar-interrupted, .progress-bar-interrupted::-webkit-progress-bar {\n",
       "                background: #F44336;\n",
       "            }\n",
       "        </style>\n",
       "      <progress value='7' class='' max='7' style='width:300px; height:20px; vertical-align: middle;'></progress>\n",
       "      100.00% [7/7 00:00<00:00 logp = -4.353e+04]\n",
       "    </div>\n",
       "    "
      ],
      "text/plain": [
       "<IPython.core.display.HTML object>"
      ]
     },
     "metadata": {},
     "output_type": "display_data"
    },
    {
     "name": "stdout",
     "output_type": "stream",
     "text": [
      "\n"
     ]
    },
    {
     "name": "stderr",
     "output_type": "stream",
     "text": [
      "message: Optimization terminated successfully.\n",
      "logp: -43566.48233776808 -> -43531.30056115436\n",
      "optimizing logp for variables: [log_sigma_rv]\n"
     ]
    },
    {
     "data": {
      "text/html": [
       "\n",
       "    <div>\n",
       "        <style>\n",
       "            /* Turns off some styling */\n",
       "            progress {\n",
       "                /* gets rid of default border in Firefox and Opera. */\n",
       "                border: none;\n",
       "                /* Needs to be in here for Safari polyfill so background images work as expected. */\n",
       "                background-size: auto;\n",
       "            }\n",
       "            .progress-bar-interrupted, .progress-bar-interrupted::-webkit-progress-bar {\n",
       "                background: #F44336;\n",
       "            }\n",
       "        </style>\n",
       "      <progress value='9' class='' max='9' style='width:300px; height:20px; vertical-align: middle;'></progress>\n",
       "      100.00% [9/9 00:00<00:00 logp = -4.352e+04]\n",
       "    </div>\n",
       "    "
      ],
      "text/plain": [
       "<IPython.core.display.HTML object>"
      ]
     },
     "metadata": {},
     "output_type": "display_data"
    },
    {
     "name": "stdout",
     "output_type": "stream",
     "text": [
      "\n"
     ]
    },
    {
     "name": "stderr",
     "output_type": "stream",
     "text": [
      "message: Optimization terminated successfully.\n",
      "logp: -43531.30056115436 -> -43516.081840991974\n",
      "optimizing logp for variables: [log_ror]\n"
     ]
    },
    {
     "data": {
      "text/html": [
       "\n",
       "    <div>\n",
       "        <style>\n",
       "            /* Turns off some styling */\n",
       "            progress {\n",
       "                /* gets rid of default border in Firefox and Opera. */\n",
       "                border: none;\n",
       "                /* Needs to be in here for Safari polyfill so background images work as expected. */\n",
       "                background-size: auto;\n",
       "            }\n",
       "            .progress-bar-interrupted, .progress-bar-interrupted::-webkit-progress-bar {\n",
       "                background: #F44336;\n",
       "            }\n",
       "        </style>\n",
       "      <progress value='9' class='' max='9' style='width:300px; height:20px; vertical-align: middle;'></progress>\n",
       "      100.00% [9/9 00:00<00:00 logp = -4.351e+04]\n",
       "    </div>\n",
       "    "
      ],
      "text/plain": [
       "<IPython.core.display.HTML object>"
      ]
     },
     "metadata": {},
     "output_type": "display_data"
    },
    {
     "name": "stdout",
     "output_type": "stream",
     "text": [
      "\n"
     ]
    },
    {
     "name": "stderr",
     "output_type": "stream",
     "text": [
      "message: Optimization terminated successfully.\n",
      "logp: -43516.081840991974 -> -43513.059297863365\n",
      "optimizing logp for variables: [b]\n"
     ]
    },
    {
     "data": {
      "text/html": [
       "\n",
       "    <div>\n",
       "        <style>\n",
       "            /* Turns off some styling */\n",
       "            progress {\n",
       "                /* gets rid of default border in Firefox and Opera. */\n",
       "                border: none;\n",
       "                /* Needs to be in here for Safari polyfill so background images work as expected. */\n",
       "                background-size: auto;\n",
       "            }\n",
       "            .progress-bar-interrupted, .progress-bar-interrupted::-webkit-progress-bar {\n",
       "                background: #F44336;\n",
       "            }\n",
       "        </style>\n",
       "      <progress value='8' class='' max='8' style='width:300px; height:20px; vertical-align: middle;'></progress>\n",
       "      100.00% [8/8 00:00<00:00 logp = -4.351e+04]\n",
       "    </div>\n",
       "    "
      ],
      "text/plain": [
       "<IPython.core.display.HTML object>"
      ]
     },
     "metadata": {},
     "output_type": "display_data"
    },
    {
     "name": "stdout",
     "output_type": "stream",
     "text": [
      "\n"
     ]
    },
    {
     "name": "stderr",
     "output_type": "stream",
     "text": [
      "message: Optimization terminated successfully.\n",
      "logp: -43513.059297863365 -> -43512.81355972461\n",
      "optimizing logp for variables: [t0, log_period]\n"
     ]
    },
    {
     "data": {
      "text/html": [
       "\n",
       "    <div>\n",
       "        <style>\n",
       "            /* Turns off some styling */\n",
       "            progress {\n",
       "                /* gets rid of default border in Firefox and Opera. */\n",
       "                border: none;\n",
       "                /* Needs to be in here for Safari polyfill so background images work as expected. */\n",
       "                background-size: auto;\n",
       "            }\n",
       "            .progress-bar-interrupted, .progress-bar-interrupted::-webkit-progress-bar {\n",
       "                background: #F44336;\n",
       "            }\n",
       "        </style>\n",
       "      <progress value='60' class='' max='60' style='width:300px; height:20px; vertical-align: middle;'></progress>\n",
       "      100.00% [60/60 00:00<00:00 logp = -4.351e+04]\n",
       "    </div>\n",
       "    "
      ],
      "text/plain": [
       "<IPython.core.display.HTML object>"
      ]
     },
     "metadata": {},
     "output_type": "display_data"
    },
    {
     "name": "stdout",
     "output_type": "stream",
     "text": [
      "\n"
     ]
    },
    {
     "name": "stderr",
     "output_type": "stream",
     "text": [
      "message: Desired error not necessarily achieved due to precision loss.\n",
      "logp: -43512.81355972461 -> -43512.631318088854\n",
      "optimizing logp for variables: [log_K]\n"
     ]
    },
    {
     "data": {
      "text/html": [
       "\n",
       "    <div>\n",
       "        <style>\n",
       "            /* Turns off some styling */\n",
       "            progress {\n",
       "                /* gets rid of default border in Firefox and Opera. */\n",
       "                border: none;\n",
       "                /* Needs to be in here for Safari polyfill so background images work as expected. */\n",
       "                background-size: auto;\n",
       "            }\n",
       "            .progress-bar-interrupted, .progress-bar-interrupted::-webkit-progress-bar {\n",
       "                background: #F44336;\n",
       "            }\n",
       "        </style>\n",
       "      <progress value='8' class='' max='8' style='width:300px; height:20px; vertical-align: middle;'></progress>\n",
       "      100.00% [8/8 00:00<00:00 logp = -4.351e+04]\n",
       "    </div>\n",
       "    "
      ],
      "text/plain": [
       "<IPython.core.display.HTML object>"
      ]
     },
     "metadata": {},
     "output_type": "display_data"
    },
    {
     "name": "stdout",
     "output_type": "stream",
     "text": [
      "\n"
     ]
    },
    {
     "name": "stderr",
     "output_type": "stream",
     "text": [
      "message: Optimization terminated successfully.\n",
      "logp: -43512.631318088854 -> -43512.18685729166\n",
      "optimizing logp for variables: [u]\n"
     ]
    },
    {
     "data": {
      "text/html": [
       "\n",
       "    <div>\n",
       "        <style>\n",
       "            /* Turns off some styling */\n",
       "            progress {\n",
       "                /* gets rid of default border in Firefox and Opera. */\n",
       "                border: none;\n",
       "                /* Needs to be in here for Safari polyfill so background images work as expected. */\n",
       "                background-size: auto;\n",
       "            }\n",
       "            .progress-bar-interrupted, .progress-bar-interrupted::-webkit-progress-bar {\n",
       "                background: #F44336;\n",
       "            }\n",
       "        </style>\n",
       "      <progress value='7' class='' max='7' style='width:300px; height:20px; vertical-align: middle;'></progress>\n",
       "      100.00% [7/7 00:00<00:00 logp = -4.351e+04]\n",
       "    </div>\n",
       "    "
      ],
      "text/plain": [
       "<IPython.core.display.HTML object>"
      ]
     },
     "metadata": {},
     "output_type": "display_data"
    },
    {
     "name": "stdout",
     "output_type": "stream",
     "text": [
      "\n"
     ]
    },
    {
     "name": "stderr",
     "output_type": "stream",
     "text": [
      "message: Optimization terminated successfully.\n",
      "logp: -43512.18685729166 -> -43511.92088276128\n",
      "optimizing logp for variables: [log_ror]\n"
     ]
    },
    {
     "data": {
      "text/html": [
       "\n",
       "    <div>\n",
       "        <style>\n",
       "            /* Turns off some styling */\n",
       "            progress {\n",
       "                /* gets rid of default border in Firefox and Opera. */\n",
       "                border: none;\n",
       "                /* Needs to be in here for Safari polyfill so background images work as expected. */\n",
       "                background-size: auto;\n",
       "            }\n",
       "            .progress-bar-interrupted, .progress-bar-interrupted::-webkit-progress-bar {\n",
       "                background: #F44336;\n",
       "            }\n",
       "        </style>\n",
       "      <progress value='8' class='' max='8' style='width:300px; height:20px; vertical-align: middle;'></progress>\n",
       "      100.00% [8/8 00:00<00:00 logp = -4.351e+04]\n",
       "    </div>\n",
       "    "
      ],
      "text/plain": [
       "<IPython.core.display.HTML object>"
      ]
     },
     "metadata": {},
     "output_type": "display_data"
    },
    {
     "name": "stdout",
     "output_type": "stream",
     "text": [
      "\n"
     ]
    },
    {
     "name": "stderr",
     "output_type": "stream",
     "text": [
      "message: Optimization terminated successfully.\n",
      "logp: -43511.92088276128 -> -43511.7501870036\n",
      "optimizing logp for variables: [b]\n"
     ]
    },
    {
     "data": {
      "text/html": [
       "\n",
       "    <div>\n",
       "        <style>\n",
       "            /* Turns off some styling */\n",
       "            progress {\n",
       "                /* gets rid of default border in Firefox and Opera. */\n",
       "                border: none;\n",
       "                /* Needs to be in here for Safari polyfill so background images work as expected. */\n",
       "                background-size: auto;\n",
       "            }\n",
       "            .progress-bar-interrupted, .progress-bar-interrupted::-webkit-progress-bar {\n",
       "                background: #F44336;\n",
       "            }\n",
       "        </style>\n",
       "      <progress value='7' class='' max='7' style='width:300px; height:20px; vertical-align: middle;'></progress>\n",
       "      100.00% [7/7 00:00<00:00 logp = -4.351e+04]\n",
       "    </div>\n",
       "    "
      ],
      "text/plain": [
       "<IPython.core.display.HTML object>"
      ]
     },
     "metadata": {},
     "output_type": "display_data"
    },
    {
     "name": "stdout",
     "output_type": "stream",
     "text": [
      "\n"
     ]
    },
    {
     "name": "stderr",
     "output_type": "stream",
     "text": [
      "message: Optimization terminated successfully.\n",
      "logp: -43511.7501870036 -> -43511.64243042147\n",
      "optimizing logp for variables: [mean_flux]\n"
     ]
    },
    {
     "data": {
      "text/html": [
       "\n",
       "    <div>\n",
       "        <style>\n",
       "            /* Turns off some styling */\n",
       "            progress {\n",
       "                /* gets rid of default border in Firefox and Opera. */\n",
       "                border: none;\n",
       "                /* Needs to be in here for Safari polyfill so background images work as expected. */\n",
       "                background-size: auto;\n",
       "            }\n",
       "            .progress-bar-interrupted, .progress-bar-interrupted::-webkit-progress-bar {\n",
       "                background: #F44336;\n",
       "            }\n",
       "        </style>\n",
       "      <progress value='4' class='' max='4' style='width:300px; height:20px; vertical-align: middle;'></progress>\n",
       "      100.00% [4/4 00:00<00:00 logp = -4.351e+04]\n",
       "    </div>\n",
       "    "
      ],
      "text/plain": [
       "<IPython.core.display.HTML object>"
      ]
     },
     "metadata": {},
     "output_type": "display_data"
    },
    {
     "name": "stderr",
     "output_type": "stream",
     "text": [
      "message: Optimization terminated successfully.\n",
      "logp: -43511.642430421474 -> -43511.64233776476\n"
     ]
    },
    {
     "name": "stdout",
     "output_type": "stream",
     "text": [
      "\n"
     ]
    },
    {
     "name": "stderr",
     "output_type": "stream",
     "text": [
      "optimizing logp for variables: [log_sigma_phot]\n"
     ]
    },
    {
     "data": {
      "text/html": [
       "\n",
       "    <div>\n",
       "        <style>\n",
       "            /* Turns off some styling */\n",
       "            progress {\n",
       "                /* gets rid of default border in Firefox and Opera. */\n",
       "                border: none;\n",
       "                /* Needs to be in here for Safari polyfill so background images work as expected. */\n",
       "                background-size: auto;\n",
       "            }\n",
       "            .progress-bar-interrupted, .progress-bar-interrupted::-webkit-progress-bar {\n",
       "                background: #F44336;\n",
       "            }\n",
       "        </style>\n",
       "      <progress value='4' class='' max='4' style='width:300px; height:20px; vertical-align: middle;'></progress>\n",
       "      100.00% [4/4 00:00<00:00 logp = -4.351e+04]\n",
       "    </div>\n",
       "    "
      ],
      "text/plain": [
       "<IPython.core.display.HTML object>"
      ]
     },
     "metadata": {},
     "output_type": "display_data"
    },
    {
     "name": "stderr",
     "output_type": "stream",
     "text": [
      "message: Optimization terminated successfully.\n",
      "logp: -43511.64233776476 -> -43511.64206588854\n"
     ]
    },
    {
     "name": "stdout",
     "output_type": "stream",
     "text": [
      "\n"
     ]
    },
    {
     "name": "stderr",
     "output_type": "stream",
     "text": [
      "optimizing logp for variables: [log_tau_phot_gp, log_rho_phot_gp, log_sigma_phot_gp]\n"
     ]
    },
    {
     "data": {
      "text/html": [
       "\n",
       "    <div>\n",
       "        <style>\n",
       "            /* Turns off some styling */\n",
       "            progress {\n",
       "                /* gets rid of default border in Firefox and Opera. */\n",
       "                border: none;\n",
       "                /* Needs to be in here for Safari polyfill so background images work as expected. */\n",
       "                background-size: auto;\n",
       "            }\n",
       "            .progress-bar-interrupted, .progress-bar-interrupted::-webkit-progress-bar {\n",
       "                background: #F44336;\n",
       "            }\n",
       "        </style>\n",
       "      <progress value='10' class='' max='10' style='width:300px; height:20px; vertical-align: middle;'></progress>\n",
       "      100.00% [10/10 00:00<00:00 logp = -4.351e+04]\n",
       "    </div>\n",
       "    "
      ],
      "text/plain": [
       "<IPython.core.display.HTML object>"
      ]
     },
     "metadata": {},
     "output_type": "display_data"
    },
    {
     "name": "stdout",
     "output_type": "stream",
     "text": [
      "\n"
     ]
    },
    {
     "name": "stderr",
     "output_type": "stream",
     "text": [
      "message: Optimization terminated successfully.\n",
      "logp: -43511.64206588854 -> -43511.64195127694\n",
      "optimizing logp for variables: [log_sigma_rv, gamma_rv, log_tau_phot_gp, log_rho_phot_gp, log_sigma_phot_gp, log_sigma_phot, ecs, b, log_ror, log_period, log_K, t0, rstar, mstar, u, mean_flux]\n"
     ]
    },
    {
     "data": {
      "text/html": [
       "\n",
       "    <div>\n",
       "        <style>\n",
       "            /* Turns off some styling */\n",
       "            progress {\n",
       "                /* gets rid of default border in Firefox and Opera. */\n",
       "                border: none;\n",
       "                /* Needs to be in here for Safari polyfill so background images work as expected. */\n",
       "                background-size: auto;\n",
       "            }\n",
       "            .progress-bar-interrupted, .progress-bar-interrupted::-webkit-progress-bar {\n",
       "                background: #F44336;\n",
       "            }\n",
       "        </style>\n",
       "      <progress value='89' class='' max='89' style='width:300px; height:20px; vertical-align: middle;'></progress>\n",
       "      100.00% [89/89 00:01<00:00 logp = -4.339e+04]\n",
       "    </div>\n",
       "    "
      ],
      "text/plain": [
       "<IPython.core.display.HTML object>"
      ]
     },
     "metadata": {},
     "output_type": "display_data"
    },
    {
     "name": "stdout",
     "output_type": "stream",
     "text": [
      "\n"
     ]
    },
    {
     "name": "stderr",
     "output_type": "stream",
     "text": [
      "message: Desired error not necessarily achieved due to precision loss.\n",
      "logp: -43511.64195127694 -> -43393.45631349859\n"
     ]
    },
    {
     "name": "stdout",
     "output_type": "stream",
     "text": [
      "Updating planet properties to MAP solution values\n",
      "86822.91262699717\n"
     ]
    },
    {
     "name": "stderr",
     "output_type": "stream",
     "text": [
      "optimizing logp for variables: [log_sigma_phot]\n"
     ]
    },
    {
     "data": {
      "text/html": [
       "\n",
       "    <div>\n",
       "        <style>\n",
       "            /* Turns off some styling */\n",
       "            progress {\n",
       "                /* gets rid of default border in Firefox and Opera. */\n",
       "                border: none;\n",
       "                /* Needs to be in here for Safari polyfill so background images work as expected. */\n",
       "                background-size: auto;\n",
       "            }\n",
       "            .progress-bar-interrupted, .progress-bar-interrupted::-webkit-progress-bar {\n",
       "                background: #F44336;\n",
       "            }\n",
       "        </style>\n",
       "      <progress value='2' class='' max='2' style='width:300px; height:20px; vertical-align: middle;'></progress>\n",
       "      100.00% [2/2 00:00<00:00 logp = -4.340e+04]\n",
       "    </div>\n",
       "    "
      ],
      "text/plain": [
       "<IPython.core.display.HTML object>"
      ]
     },
     "metadata": {},
     "output_type": "display_data"
    },
    {
     "name": "stderr",
     "output_type": "stream",
     "text": [
      "message: Optimization terminated successfully.\n",
      "logp: -43399.89935830218 -> -43399.89935830218\n"
     ]
    },
    {
     "name": "stdout",
     "output_type": "stream",
     "text": [
      "\n"
     ]
    },
    {
     "name": "stderr",
     "output_type": "stream",
     "text": [
      "optimizing logp for variables: [u]\n"
     ]
    },
    {
     "data": {
      "text/html": [
       "\n",
       "    <div>\n",
       "        <style>\n",
       "            /* Turns off some styling */\n",
       "            progress {\n",
       "                /* gets rid of default border in Firefox and Opera. */\n",
       "                border: none;\n",
       "                /* Needs to be in here for Safari polyfill so background images work as expected. */\n",
       "                background-size: auto;\n",
       "            }\n",
       "            .progress-bar-interrupted, .progress-bar-interrupted::-webkit-progress-bar {\n",
       "                background: #F44336;\n",
       "            }\n",
       "        </style>\n",
       "      <progress value='2' class='' max='2' style='width:300px; height:20px; vertical-align: middle;'></progress>\n",
       "      100.00% [2/2 00:00<00:00 logp = -4.340e+04]\n",
       "    </div>\n",
       "    "
      ],
      "text/plain": [
       "<IPython.core.display.HTML object>"
      ]
     },
     "metadata": {},
     "output_type": "display_data"
    },
    {
     "name": "stderr",
     "output_type": "stream",
     "text": [
      "message: Optimization terminated successfully.\n",
      "logp: -43399.89935830218 -> -43399.89935830218\n"
     ]
    },
    {
     "name": "stdout",
     "output_type": "stream",
     "text": [
      "\n"
     ]
    },
    {
     "name": "stderr",
     "output_type": "stream",
     "text": [
      "optimizing logp for variables: [log_ror]\n"
     ]
    },
    {
     "data": {
      "text/html": [
       "\n",
       "    <div>\n",
       "        <style>\n",
       "            /* Turns off some styling */\n",
       "            progress {\n",
       "                /* gets rid of default border in Firefox and Opera. */\n",
       "                border: none;\n",
       "                /* Needs to be in here for Safari polyfill so background images work as expected. */\n",
       "                background-size: auto;\n",
       "            }\n",
       "            .progress-bar-interrupted, .progress-bar-interrupted::-webkit-progress-bar {\n",
       "                background: #F44336;\n",
       "            }\n",
       "        </style>\n",
       "      <progress value='4' class='' max='4' style='width:300px; height:20px; vertical-align: middle;'></progress>\n",
       "      100.00% [4/4 00:00<00:00 logp = -4.340e+04]\n",
       "    </div>\n",
       "    "
      ],
      "text/plain": [
       "<IPython.core.display.HTML object>"
      ]
     },
     "metadata": {},
     "output_type": "display_data"
    },
    {
     "name": "stderr",
     "output_type": "stream",
     "text": [
      "message: Optimization terminated successfully.\n",
      "logp: -43399.89935830218 -> -43399.89935830184\n"
     ]
    },
    {
     "name": "stdout",
     "output_type": "stream",
     "text": [
      "\n"
     ]
    },
    {
     "name": "stderr",
     "output_type": "stream",
     "text": [
      "optimizing logp for variables: [log_K]\n"
     ]
    },
    {
     "data": {
      "text/html": [
       "\n",
       "    <div>\n",
       "        <style>\n",
       "            /* Turns off some styling */\n",
       "            progress {\n",
       "                /* gets rid of default border in Firefox and Opera. */\n",
       "                border: none;\n",
       "                /* Needs to be in here for Safari polyfill so background images work as expected. */\n",
       "                background-size: auto;\n",
       "            }\n",
       "            .progress-bar-interrupted, .progress-bar-interrupted::-webkit-progress-bar {\n",
       "                background: #F44336;\n",
       "            }\n",
       "        </style>\n",
       "      <progress value='2' class='' max='2' style='width:300px; height:20px; vertical-align: middle;'></progress>\n",
       "      100.00% [2/2 00:00<00:00 logp = -4.340e+04]\n",
       "    </div>\n",
       "    "
      ],
      "text/plain": [
       "<IPython.core.display.HTML object>"
      ]
     },
     "metadata": {},
     "output_type": "display_data"
    },
    {
     "name": "stderr",
     "output_type": "stream",
     "text": [
      "message: Optimization terminated successfully.\n",
      "logp: -43399.89935830184 -> -43399.89935830184\n"
     ]
    },
    {
     "name": "stdout",
     "output_type": "stream",
     "text": [
      "\n"
     ]
    },
    {
     "name": "stderr",
     "output_type": "stream",
     "text": [
      "optimizing logp for variables: [b]\n"
     ]
    },
    {
     "data": {
      "text/html": [
       "\n",
       "    <div>\n",
       "        <style>\n",
       "            /* Turns off some styling */\n",
       "            progress {\n",
       "                /* gets rid of default border in Firefox and Opera. */\n",
       "                border: none;\n",
       "                /* Needs to be in here for Safari polyfill so background images work as expected. */\n",
       "                background-size: auto;\n",
       "            }\n",
       "            .progress-bar-interrupted, .progress-bar-interrupted::-webkit-progress-bar {\n",
       "                background: #F44336;\n",
       "            }\n",
       "        </style>\n",
       "      <progress value='4' class='' max='4' style='width:300px; height:20px; vertical-align: middle;'></progress>\n",
       "      100.00% [4/4 00:00<00:00 logp = -4.340e+04]\n",
       "    </div>\n",
       "    "
      ],
      "text/plain": [
       "<IPython.core.display.HTML object>"
      ]
     },
     "metadata": {},
     "output_type": "display_data"
    },
    {
     "name": "stderr",
     "output_type": "stream",
     "text": [
      "message: Optimization terminated successfully.\n",
      "logp: -43399.899358301845 -> -43399.899358301824\n"
     ]
    },
    {
     "name": "stdout",
     "output_type": "stream",
     "text": [
      "\n"
     ]
    },
    {
     "name": "stderr",
     "output_type": "stream",
     "text": [
      "optimizing logp for variables: [ecs]\n"
     ]
    },
    {
     "data": {
      "text/html": [
       "\n",
       "    <div>\n",
       "        <style>\n",
       "            /* Turns off some styling */\n",
       "            progress {\n",
       "                /* gets rid of default border in Firefox and Opera. */\n",
       "                border: none;\n",
       "                /* Needs to be in here for Safari polyfill so background images work as expected. */\n",
       "                background-size: auto;\n",
       "            }\n",
       "            .progress-bar-interrupted, .progress-bar-interrupted::-webkit-progress-bar {\n",
       "                background: #F44336;\n",
       "            }\n",
       "        </style>\n",
       "      <progress value='4' class='' max='4' style='width:300px; height:20px; vertical-align: middle;'></progress>\n",
       "      100.00% [4/4 00:00<00:00 logp = -4.340e+04]\n",
       "    </div>\n",
       "    "
      ],
      "text/plain": [
       "<IPython.core.display.HTML object>"
      ]
     },
     "metadata": {},
     "output_type": "display_data"
    },
    {
     "name": "stderr",
     "output_type": "stream",
     "text": [
      "message: Optimization terminated successfully.\n",
      "logp: -43399.899358301824 -> -43399.899358301715\n"
     ]
    },
    {
     "name": "stdout",
     "output_type": "stream",
     "text": [
      "\n"
     ]
    },
    {
     "name": "stderr",
     "output_type": "stream",
     "text": [
      "optimizing logp for variables: [trend_rv]\n"
     ]
    },
    {
     "data": {
      "text/html": [
       "\n",
       "    <div>\n",
       "        <style>\n",
       "            /* Turns off some styling */\n",
       "            progress {\n",
       "                /* gets rid of default border in Firefox and Opera. */\n",
       "                border: none;\n",
       "                /* Needs to be in here for Safari polyfill so background images work as expected. */\n",
       "                background-size: auto;\n",
       "            }\n",
       "            .progress-bar-interrupted, .progress-bar-interrupted::-webkit-progress-bar {\n",
       "                background: #F44336;\n",
       "            }\n",
       "        </style>\n",
       "      <progress value='6' class='' max='6' style='width:300px; height:20px; vertical-align: middle;'></progress>\n",
       "      100.00% [6/6 00:00<00:00 logp = -4.340e+04]\n",
       "    </div>\n",
       "    "
      ],
      "text/plain": [
       "<IPython.core.display.HTML object>"
      ]
     },
     "metadata": {},
     "output_type": "display_data"
    },
    {
     "name": "stderr",
     "output_type": "stream",
     "text": [
      "message: Optimization terminated successfully.\n",
      "logp: -43399.899358301715 -> -43398.6460272719\n"
     ]
    },
    {
     "name": "stdout",
     "output_type": "stream",
     "text": [
      "\n"
     ]
    },
    {
     "name": "stderr",
     "output_type": "stream",
     "text": [
      "optimizing logp for variables: [gamma_rv]\n"
     ]
    },
    {
     "data": {
      "text/html": [
       "\n",
       "    <div>\n",
       "        <style>\n",
       "            /* Turns off some styling */\n",
       "            progress {\n",
       "                /* gets rid of default border in Firefox and Opera. */\n",
       "                border: none;\n",
       "                /* Needs to be in here for Safari polyfill so background images work as expected. */\n",
       "                background-size: auto;\n",
       "            }\n",
       "            .progress-bar-interrupted, .progress-bar-interrupted::-webkit-progress-bar {\n",
       "                background: #F44336;\n",
       "            }\n",
       "        </style>\n",
       "      <progress value='5' class='' max='5' style='width:300px; height:20px; vertical-align: middle;'></progress>\n",
       "      100.00% [5/5 00:00<00:00 logp = -4.340e+04]\n",
       "    </div>\n",
       "    "
      ],
      "text/plain": [
       "<IPython.core.display.HTML object>"
      ]
     },
     "metadata": {},
     "output_type": "display_data"
    },
    {
     "name": "stderr",
     "output_type": "stream",
     "text": [
      "message: Optimization terminated successfully.\n",
      "logp: -43398.6460272719 -> -43398.6460225208\n"
     ]
    },
    {
     "name": "stdout",
     "output_type": "stream",
     "text": [
      "\n"
     ]
    },
    {
     "name": "stderr",
     "output_type": "stream",
     "text": [
      "optimizing logp for variables: [log_sigma_rv]\n"
     ]
    },
    {
     "data": {
      "text/html": [
       "\n",
       "    <div>\n",
       "        <style>\n",
       "            /* Turns off some styling */\n",
       "            progress {\n",
       "                /* gets rid of default border in Firefox and Opera. */\n",
       "                border: none;\n",
       "                /* Needs to be in here for Safari polyfill so background images work as expected. */\n",
       "                background-size: auto;\n",
       "            }\n",
       "            .progress-bar-interrupted, .progress-bar-interrupted::-webkit-progress-bar {\n",
       "                background: #F44336;\n",
       "            }\n",
       "        </style>\n",
       "      <progress value='9' class='' max='9' style='width:300px; height:20px; vertical-align: middle;'></progress>\n",
       "      100.00% [9/9 00:00<00:00 logp = -4.340e+04]\n",
       "    </div>\n",
       "    "
      ],
      "text/plain": [
       "<IPython.core.display.HTML object>"
      ]
     },
     "metadata": {},
     "output_type": "display_data"
    },
    {
     "name": "stderr",
     "output_type": "stream",
     "text": [
      "message: Optimization terminated successfully.\n",
      "logp: -43398.6460225208 -> -43398.61402389756\n"
     ]
    },
    {
     "name": "stdout",
     "output_type": "stream",
     "text": [
      "\n"
     ]
    },
    {
     "name": "stderr",
     "output_type": "stream",
     "text": [
      "optimizing logp for variables: [log_ror]\n"
     ]
    },
    {
     "data": {
      "text/html": [
       "\n",
       "    <div>\n",
       "        <style>\n",
       "            /* Turns off some styling */\n",
       "            progress {\n",
       "                /* gets rid of default border in Firefox and Opera. */\n",
       "                border: none;\n",
       "                /* Needs to be in here for Safari polyfill so background images work as expected. */\n",
       "                background-size: auto;\n",
       "            }\n",
       "            .progress-bar-interrupted, .progress-bar-interrupted::-webkit-progress-bar {\n",
       "                background: #F44336;\n",
       "            }\n",
       "        </style>\n",
       "      <progress value='56' class='' max='56' style='width:300px; height:20px; vertical-align: middle;'></progress>\n",
       "      100.00% [56/56 00:00<00:00 logp = -4.340e+04]\n",
       "    </div>\n",
       "    "
      ],
      "text/plain": [
       "<IPython.core.display.HTML object>"
      ]
     },
     "metadata": {},
     "output_type": "display_data"
    },
    {
     "name": "stdout",
     "output_type": "stream",
     "text": [
      "\n"
     ]
    },
    {
     "name": "stderr",
     "output_type": "stream",
     "text": [
      "message: Optimization terminated successfully.\n",
      "logp: -43398.61402389756 -> -43398.61402389754\n",
      "optimizing logp for variables: [b]\n"
     ]
    },
    {
     "data": {
      "text/html": [
       "\n",
       "    <div>\n",
       "        <style>\n",
       "            /* Turns off some styling */\n",
       "            progress {\n",
       "                /* gets rid of default border in Firefox and Opera. */\n",
       "                border: none;\n",
       "                /* Needs to be in here for Safari polyfill so background images work as expected. */\n",
       "                background-size: auto;\n",
       "            }\n",
       "            .progress-bar-interrupted, .progress-bar-interrupted::-webkit-progress-bar {\n",
       "                background: #F44336;\n",
       "            }\n",
       "        </style>\n",
       "      <progress value='101' class='' max='101' style='width:300px; height:20px; vertical-align: middle;'></progress>\n",
       "      100.00% [101/101 00:00<00:00 logp = -4.340e+04]\n",
       "    </div>\n",
       "    "
      ],
      "text/plain": [
       "<IPython.core.display.HTML object>"
      ]
     },
     "metadata": {},
     "output_type": "display_data"
    },
    {
     "name": "stdout",
     "output_type": "stream",
     "text": [
      "\n"
     ]
    },
    {
     "name": "stderr",
     "output_type": "stream",
     "text": [
      "message: Desired error not necessarily achieved due to precision loss.\n",
      "logp: -43398.61402389754 -> -43398.614023897455\n",
      "optimizing logp for variables: [t0, log_period]\n"
     ]
    },
    {
     "data": {
      "text/html": [
       "\n",
       "    <div>\n",
       "        <style>\n",
       "            /* Turns off some styling */\n",
       "            progress {\n",
       "                /* gets rid of default border in Firefox and Opera. */\n",
       "                border: none;\n",
       "                /* Needs to be in here for Safari polyfill so background images work as expected. */\n",
       "                background-size: auto;\n",
       "            }\n",
       "            .progress-bar-interrupted, .progress-bar-interrupted::-webkit-progress-bar {\n",
       "                background: #F44336;\n",
       "            }\n",
       "        </style>\n",
       "      <progress value='11' class='' max='11' style='width:300px; height:20px; vertical-align: middle;'></progress>\n",
       "      100.00% [11/11 00:00<00:00 logp = -4.340e+04]\n",
       "    </div>\n",
       "    "
      ],
      "text/plain": [
       "<IPython.core.display.HTML object>"
      ]
     },
     "metadata": {},
     "output_type": "display_data"
    },
    {
     "name": "stdout",
     "output_type": "stream",
     "text": [
      "\n"
     ]
    },
    {
     "name": "stderr",
     "output_type": "stream",
     "text": [
      "message: Desired error not necessarily achieved due to precision loss.\n",
      "logp: -43398.614023897455 -> -43398.61401240819\n",
      "optimizing logp for variables: [log_K]\n"
     ]
    },
    {
     "data": {
      "text/html": [
       "\n",
       "    <div>\n",
       "        <style>\n",
       "            /* Turns off some styling */\n",
       "            progress {\n",
       "                /* gets rid of default border in Firefox and Opera. */\n",
       "                border: none;\n",
       "                /* Needs to be in here for Safari polyfill so background images work as expected. */\n",
       "                background-size: auto;\n",
       "            }\n",
       "            .progress-bar-interrupted, .progress-bar-interrupted::-webkit-progress-bar {\n",
       "                background: #F44336;\n",
       "            }\n",
       "        </style>\n",
       "      <progress value='6' class='' max='6' style='width:300px; height:20px; vertical-align: middle;'></progress>\n",
       "      100.00% [6/6 00:00<00:00 logp = -4.340e+04]\n",
       "    </div>\n",
       "    "
      ],
      "text/plain": [
       "<IPython.core.display.HTML object>"
      ]
     },
     "metadata": {},
     "output_type": "display_data"
    },
    {
     "name": "stderr",
     "output_type": "stream",
     "text": [
      "message: Optimization terminated successfully.\n",
      "logp: -43398.61401240819 -> -43398.611401556496\n"
     ]
    },
    {
     "name": "stdout",
     "output_type": "stream",
     "text": [
      "\n"
     ]
    },
    {
     "name": "stderr",
     "output_type": "stream",
     "text": [
      "optimizing logp for variables: [u]\n"
     ]
    },
    {
     "data": {
      "text/html": [
       "\n",
       "    <div>\n",
       "        <style>\n",
       "            /* Turns off some styling */\n",
       "            progress {\n",
       "                /* gets rid of default border in Firefox and Opera. */\n",
       "                border: none;\n",
       "                /* Needs to be in here for Safari polyfill so background images work as expected. */\n",
       "                background-size: auto;\n",
       "            }\n",
       "            .progress-bar-interrupted, .progress-bar-interrupted::-webkit-progress-bar {\n",
       "                background: #F44336;\n",
       "            }\n",
       "        </style>\n",
       "      <progress value='6' class='' max='6' style='width:300px; height:20px; vertical-align: middle;'></progress>\n",
       "      100.00% [6/6 00:00<00:00 logp = -4.340e+04]\n",
       "    </div>\n",
       "    "
      ],
      "text/plain": [
       "<IPython.core.display.HTML object>"
      ]
     },
     "metadata": {},
     "output_type": "display_data"
    },
    {
     "name": "stderr",
     "output_type": "stream",
     "text": [
      "message: Optimization terminated successfully.\n",
      "logp: -43398.611401556496 -> -43398.61140150422\n"
     ]
    },
    {
     "name": "stdout",
     "output_type": "stream",
     "text": [
      "\n"
     ]
    },
    {
     "name": "stderr",
     "output_type": "stream",
     "text": [
      "optimizing logp for variables: [log_ror]\n"
     ]
    },
    {
     "data": {
      "text/html": [
       "\n",
       "    <div>\n",
       "        <style>\n",
       "            /* Turns off some styling */\n",
       "            progress {\n",
       "                /* gets rid of default border in Firefox and Opera. */\n",
       "                border: none;\n",
       "                /* Needs to be in here for Safari polyfill so background images work as expected. */\n",
       "                background-size: auto;\n",
       "            }\n",
       "            .progress-bar-interrupted, .progress-bar-interrupted::-webkit-progress-bar {\n",
       "                background: #F44336;\n",
       "            }\n",
       "        </style>\n",
       "      <progress value='4' class='' max='4' style='width:300px; height:20px; vertical-align: middle;'></progress>\n",
       "      100.00% [4/4 00:00<00:00 logp = -4.340e+04]\n",
       "    </div>\n",
       "    "
      ],
      "text/plain": [
       "<IPython.core.display.HTML object>"
      ]
     },
     "metadata": {},
     "output_type": "display_data"
    },
    {
     "name": "stderr",
     "output_type": "stream",
     "text": [
      "message: Optimization terminated successfully.\n",
      "logp: -43398.61140150422 -> -43398.61140150265\n"
     ]
    },
    {
     "name": "stdout",
     "output_type": "stream",
     "text": [
      "\n"
     ]
    },
    {
     "name": "stderr",
     "output_type": "stream",
     "text": [
      "optimizing logp for variables: [b]\n"
     ]
    },
    {
     "data": {
      "text/html": [
       "\n",
       "    <div>\n",
       "        <style>\n",
       "            /* Turns off some styling */\n",
       "            progress {\n",
       "                /* gets rid of default border in Firefox and Opera. */\n",
       "                border: none;\n",
       "                /* Needs to be in here for Safari polyfill so background images work as expected. */\n",
       "                background-size: auto;\n",
       "            }\n",
       "            .progress-bar-interrupted, .progress-bar-interrupted::-webkit-progress-bar {\n",
       "                background: #F44336;\n",
       "            }\n",
       "        </style>\n",
       "      <progress value='4' class='' max='4' style='width:300px; height:20px; vertical-align: middle;'></progress>\n",
       "      100.00% [4/4 00:00<00:00 logp = -4.340e+04]\n",
       "    </div>\n",
       "    "
      ],
      "text/plain": [
       "<IPython.core.display.HTML object>"
      ]
     },
     "metadata": {},
     "output_type": "display_data"
    },
    {
     "name": "stdout",
     "output_type": "stream",
     "text": [
      "\n"
     ]
    },
    {
     "name": "stderr",
     "output_type": "stream",
     "text": [
      "message: Optimization terminated successfully.\n",
      "logp: -43398.61140150265 -> -43398.611401497976\n",
      "optimizing logp for variables: [mean_flux]\n"
     ]
    },
    {
     "data": {
      "text/html": [
       "\n",
       "    <div>\n",
       "        <style>\n",
       "            /* Turns off some styling */\n",
       "            progress {\n",
       "                /* gets rid of default border in Firefox and Opera. */\n",
       "                border: none;\n",
       "                /* Needs to be in here for Safari polyfill so background images work as expected. */\n",
       "                background-size: auto;\n",
       "            }\n",
       "            .progress-bar-interrupted, .progress-bar-interrupted::-webkit-progress-bar {\n",
       "                background: #F44336;\n",
       "            }\n",
       "        </style>\n",
       "      <progress value='50' class='' max='50' style='width:300px; height:20px; vertical-align: middle;'></progress>\n",
       "      100.00% [50/50 00:00<00:00 logp = -4.340e+04]\n",
       "    </div>\n",
       "    "
      ],
      "text/plain": [
       "<IPython.core.display.HTML object>"
      ]
     },
     "metadata": {},
     "output_type": "display_data"
    },
    {
     "name": "stdout",
     "output_type": "stream",
     "text": [
      "\n"
     ]
    },
    {
     "name": "stderr",
     "output_type": "stream",
     "text": [
      "message: Desired error not necessarily achieved due to precision loss.\n",
      "logp: -43398.611401497976 -> -43398.61140149783\n",
      "optimizing logp for variables: [log_sigma_phot]\n"
     ]
    },
    {
     "data": {
      "text/html": [
       "\n",
       "    <div>\n",
       "        <style>\n",
       "            /* Turns off some styling */\n",
       "            progress {\n",
       "                /* gets rid of default border in Firefox and Opera. */\n",
       "                border: none;\n",
       "                /* Needs to be in here for Safari polyfill so background images work as expected. */\n",
       "                background-size: auto;\n",
       "            }\n",
       "            .progress-bar-interrupted, .progress-bar-interrupted::-webkit-progress-bar {\n",
       "                background: #F44336;\n",
       "            }\n",
       "        </style>\n",
       "      <progress value='2' class='' max='2' style='width:300px; height:20px; vertical-align: middle;'></progress>\n",
       "      100.00% [2/2 00:00<00:00 logp = -4.340e+04]\n",
       "    </div>\n",
       "    "
      ],
      "text/plain": [
       "<IPython.core.display.HTML object>"
      ]
     },
     "metadata": {},
     "output_type": "display_data"
    },
    {
     "name": "stderr",
     "output_type": "stream",
     "text": [
      "message: Optimization terminated successfully.\n",
      "logp: -43398.61140149783 -> -43398.61140149783\n"
     ]
    },
    {
     "name": "stdout",
     "output_type": "stream",
     "text": [
      "\n"
     ]
    },
    {
     "name": "stderr",
     "output_type": "stream",
     "text": [
      "optimizing logp for variables: [log_tau_phot_gp, log_rho_phot_gp, log_sigma_phot_gp]\n"
     ]
    },
    {
     "data": {
      "text/html": [
       "\n",
       "    <div>\n",
       "        <style>\n",
       "            /* Turns off some styling */\n",
       "            progress {\n",
       "                /* gets rid of default border in Firefox and Opera. */\n",
       "                border: none;\n",
       "                /* Needs to be in here for Safari polyfill so background images work as expected. */\n",
       "                background-size: auto;\n",
       "            }\n",
       "            .progress-bar-interrupted, .progress-bar-interrupted::-webkit-progress-bar {\n",
       "                background: #F44336;\n",
       "            }\n",
       "        </style>\n",
       "      <progress value='7' class='' max='7' style='width:300px; height:20px; vertical-align: middle;'></progress>\n",
       "      100.00% [7/7 00:00<00:00 logp = -4.340e+04]\n",
       "    </div>\n",
       "    "
      ],
      "text/plain": [
       "<IPython.core.display.HTML object>"
      ]
     },
     "metadata": {},
     "output_type": "display_data"
    },
    {
     "name": "stdout",
     "output_type": "stream",
     "text": [
      "\n"
     ]
    },
    {
     "name": "stderr",
     "output_type": "stream",
     "text": [
      "message: Desired error not necessarily achieved due to precision loss.\n",
      "logp: -43398.61140149783 -> -43398.6114014977\n",
      "optimizing logp for variables: [log_sigma_rv, gamma_rv, trend_rv, log_tau_phot_gp, log_rho_phot_gp, log_sigma_phot_gp, log_sigma_phot, ecs, b, log_ror, log_period, log_K, t0, rstar, mstar, u, mean_flux]\n"
     ]
    },
    {
     "data": {
      "text/html": [
       "\n",
       "    <div>\n",
       "        <style>\n",
       "            /* Turns off some styling */\n",
       "            progress {\n",
       "                /* gets rid of default border in Firefox and Opera. */\n",
       "                border: none;\n",
       "                /* Needs to be in here for Safari polyfill so background images work as expected. */\n",
       "                background-size: auto;\n",
       "            }\n",
       "            .progress-bar-interrupted, .progress-bar-interrupted::-webkit-progress-bar {\n",
       "                background: #F44336;\n",
       "            }\n",
       "        </style>\n",
       "      <progress value='98' class='' max='98' style='width:300px; height:20px; vertical-align: middle;'></progress>\n",
       "      100.00% [98/98 00:01<00:00 logp = -4.340e+04]\n",
       "    </div>\n",
       "    "
      ],
      "text/plain": [
       "<IPython.core.display.HTML object>"
      ]
     },
     "metadata": {},
     "output_type": "display_data"
    },
    {
     "name": "stdout",
     "output_type": "stream",
     "text": [
      "\n"
     ]
    },
    {
     "name": "stderr",
     "output_type": "stream",
     "text": [
      "message: Desired error not necessarily achieved due to precision loss.\n",
      "logp: -43398.6114014977 -> -43398.59969960581\n"
     ]
    },
    {
     "name": "stdout",
     "output_type": "stream",
     "text": [
      "Updating planet properties to MAP solution values\n",
      "86837.19939921163\n",
      "-14.286772214458324\n",
      "Trend is not preferred\n",
      "86826.22954397998\n",
      "-10.969855231654947\n",
      "Trend is not preferred\n"
     ]
    },
    {
     "name": "stderr",
     "output_type": "stream",
     "text": [
      "optimizing logp for variables: [log_sigma_phot]\n"
     ]
    },
    {
     "data": {
      "text/html": [
       "\n",
       "    <div>\n",
       "        <style>\n",
       "            /* Turns off some styling */\n",
       "            progress {\n",
       "                /* gets rid of default border in Firefox and Opera. */\n",
       "                border: none;\n",
       "                /* Needs to be in here for Safari polyfill so background images work as expected. */\n",
       "                background-size: auto;\n",
       "            }\n",
       "            .progress-bar-interrupted, .progress-bar-interrupted::-webkit-progress-bar {\n",
       "                background: #F44336;\n",
       "            }\n",
       "        </style>\n",
       "      <progress value='2' class='' max='2' style='width:300px; height:20px; vertical-align: middle;'></progress>\n",
       "      100.00% [2/2 00:00<00:00 logp = -4.340e+04]\n",
       "    </div>\n",
       "    "
      ],
      "text/plain": [
       "<IPython.core.display.HTML object>"
      ]
     },
     "metadata": {},
     "output_type": "display_data"
    },
    {
     "name": "stderr",
     "output_type": "stream",
     "text": [
      "message: Optimization terminated successfully.\n",
      "logp: -43395.114768883046 -> -43395.114768883046\n"
     ]
    },
    {
     "name": "stdout",
     "output_type": "stream",
     "text": [
      "\n"
     ]
    },
    {
     "name": "stderr",
     "output_type": "stream",
     "text": [
      "optimizing logp for variables: [u]\n"
     ]
    },
    {
     "data": {
      "text/html": [
       "\n",
       "    <div>\n",
       "        <style>\n",
       "            /* Turns off some styling */\n",
       "            progress {\n",
       "                /* gets rid of default border in Firefox and Opera. */\n",
       "                border: none;\n",
       "                /* Needs to be in here for Safari polyfill so background images work as expected. */\n",
       "                background-size: auto;\n",
       "            }\n",
       "            .progress-bar-interrupted, .progress-bar-interrupted::-webkit-progress-bar {\n",
       "                background: #F44336;\n",
       "            }\n",
       "        </style>\n",
       "      <progress value='2' class='' max='2' style='width:300px; height:20px; vertical-align: middle;'></progress>\n",
       "      100.00% [2/2 00:00<00:00 logp = -4.340e+04]\n",
       "    </div>\n",
       "    "
      ],
      "text/plain": [
       "<IPython.core.display.HTML object>"
      ]
     },
     "metadata": {},
     "output_type": "display_data"
    },
    {
     "name": "stderr",
     "output_type": "stream",
     "text": [
      "message: Optimization terminated successfully.\n",
      "logp: -43395.114768883046 -> -43395.114768883046\n"
     ]
    },
    {
     "name": "stdout",
     "output_type": "stream",
     "text": [
      "\n"
     ]
    },
    {
     "name": "stderr",
     "output_type": "stream",
     "text": [
      "optimizing logp for variables: [log_ror]\n"
     ]
    },
    {
     "data": {
      "text/html": [
       "\n",
       "    <div>\n",
       "        <style>\n",
       "            /* Turns off some styling */\n",
       "            progress {\n",
       "                /* gets rid of default border in Firefox and Opera. */\n",
       "                border: none;\n",
       "                /* Needs to be in here for Safari polyfill so background images work as expected. */\n",
       "                background-size: auto;\n",
       "            }\n",
       "            .progress-bar-interrupted, .progress-bar-interrupted::-webkit-progress-bar {\n",
       "                background: #F44336;\n",
       "            }\n",
       "        </style>\n",
       "      <progress value='35' class='' max='35' style='width:300px; height:20px; vertical-align: middle;'></progress>\n",
       "      100.00% [35/35 00:00<00:00 logp = -4.340e+04]\n",
       "    </div>\n",
       "    "
      ],
      "text/plain": [
       "<IPython.core.display.HTML object>"
      ]
     },
     "metadata": {},
     "output_type": "display_data"
    },
    {
     "name": "stdout",
     "output_type": "stream",
     "text": [
      "\n"
     ]
    },
    {
     "name": "stderr",
     "output_type": "stream",
     "text": [
      "message: Desired error not necessarily achieved due to precision loss.\n",
      "logp: -43395.114768883046 -> -43395.114768883046\n",
      "optimizing logp for variables: [log_K]\n"
     ]
    },
    {
     "data": {
      "text/html": [
       "\n",
       "    <div>\n",
       "        <style>\n",
       "            /* Turns off some styling */\n",
       "            progress {\n",
       "                /* gets rid of default border in Firefox and Opera. */\n",
       "                border: none;\n",
       "                /* Needs to be in here for Safari polyfill so background images work as expected. */\n",
       "                background-size: auto;\n",
       "            }\n",
       "            .progress-bar-interrupted, .progress-bar-interrupted::-webkit-progress-bar {\n",
       "                background: #F44336;\n",
       "            }\n",
       "        </style>\n",
       "      <progress value='6' class='' max='6' style='width:300px; height:20px; vertical-align: middle;'></progress>\n",
       "      100.00% [6/6 00:00<00:00 logp = -4.340e+04]\n",
       "    </div>\n",
       "    "
      ],
      "text/plain": [
       "<IPython.core.display.HTML object>"
      ]
     },
     "metadata": {},
     "output_type": "display_data"
    },
    {
     "name": "stdout",
     "output_type": "stream",
     "text": [
      "\n"
     ]
    },
    {
     "name": "stderr",
     "output_type": "stream",
     "text": [
      "message: Optimization terminated successfully.\n",
      "logp: -43395.114768883046 -> -43395.11051064467\n",
      "optimizing logp for variables: [b]\n"
     ]
    },
    {
     "data": {
      "text/html": [
       "\n",
       "    <div>\n",
       "        <style>\n",
       "            /* Turns off some styling */\n",
       "            progress {\n",
       "                /* gets rid of default border in Firefox and Opera. */\n",
       "                border: none;\n",
       "                /* Needs to be in here for Safari polyfill so background images work as expected. */\n",
       "                background-size: auto;\n",
       "            }\n",
       "            .progress-bar-interrupted, .progress-bar-interrupted::-webkit-progress-bar {\n",
       "                background: #F44336;\n",
       "            }\n",
       "        </style>\n",
       "      <progress value='2' class='' max='2' style='width:300px; height:20px; vertical-align: middle;'></progress>\n",
       "      100.00% [2/2 00:00<00:00 logp = -4.340e+04]\n",
       "    </div>\n",
       "    "
      ],
      "text/plain": [
       "<IPython.core.display.HTML object>"
      ]
     },
     "metadata": {},
     "output_type": "display_data"
    },
    {
     "name": "stderr",
     "output_type": "stream",
     "text": [
      "message: Optimization terminated successfully.\n",
      "logp: -43395.11051064467 -> -43395.11051064467\n"
     ]
    },
    {
     "name": "stdout",
     "output_type": "stream",
     "text": [
      "\n"
     ]
    },
    {
     "name": "stderr",
     "output_type": "stream",
     "text": [
      "optimizing logp for variables: [ecs]\n"
     ]
    },
    {
     "data": {
      "text/html": [
       "\n",
       "    <div>\n",
       "        <style>\n",
       "            /* Turns off some styling */\n",
       "            progress {\n",
       "                /* gets rid of default border in Firefox and Opera. */\n",
       "                border: none;\n",
       "                /* Needs to be in here for Safari polyfill so background images work as expected. */\n",
       "                background-size: auto;\n",
       "            }\n",
       "            .progress-bar-interrupted, .progress-bar-interrupted::-webkit-progress-bar {\n",
       "                background: #F44336;\n",
       "            }\n",
       "        </style>\n",
       "      <progress value='10' class='' max='10' style='width:300px; height:20px; vertical-align: middle;'></progress>\n",
       "      100.00% [10/10 00:00<00:00 logp = -4.340e+04]\n",
       "    </div>\n",
       "    "
      ],
      "text/plain": [
       "<IPython.core.display.HTML object>"
      ]
     },
     "metadata": {},
     "output_type": "display_data"
    },
    {
     "name": "stdout",
     "output_type": "stream",
     "text": [
      "\n"
     ]
    },
    {
     "name": "stderr",
     "output_type": "stream",
     "text": [
      "message: Optimization terminated successfully.\n",
      "logp: -43395.11051064467 -> -43395.10893893633\n",
      "optimizing logp for variables: [gamma_rv]\n"
     ]
    },
    {
     "data": {
      "text/html": [
       "\n",
       "    <div>\n",
       "        <style>\n",
       "            /* Turns off some styling */\n",
       "            progress {\n",
       "                /* gets rid of default border in Firefox and Opera. */\n",
       "                border: none;\n",
       "                /* Needs to be in here for Safari polyfill so background images work as expected. */\n",
       "                background-size: auto;\n",
       "            }\n",
       "            .progress-bar-interrupted, .progress-bar-interrupted::-webkit-progress-bar {\n",
       "                background: #F44336;\n",
       "            }\n",
       "        </style>\n",
       "      <progress value='6' class='' max='6' style='width:300px; height:20px; vertical-align: middle;'></progress>\n",
       "      100.00% [6/6 00:00<00:00 logp = -4.339e+04]\n",
       "    </div>\n",
       "    "
      ],
      "text/plain": [
       "<IPython.core.display.HTML object>"
      ]
     },
     "metadata": {},
     "output_type": "display_data"
    },
    {
     "name": "stderr",
     "output_type": "stream",
     "text": [
      "message: Optimization terminated successfully.\n",
      "logp: -43395.10893893633 -> -43393.50905324319\n"
     ]
    },
    {
     "name": "stdout",
     "output_type": "stream",
     "text": [
      "\n"
     ]
    },
    {
     "name": "stderr",
     "output_type": "stream",
     "text": [
      "optimizing logp for variables: [log_sigma_rv]\n"
     ]
    },
    {
     "data": {
      "text/html": [
       "\n",
       "    <div>\n",
       "        <style>\n",
       "            /* Turns off some styling */\n",
       "            progress {\n",
       "                /* gets rid of default border in Firefox and Opera. */\n",
       "                border: none;\n",
       "                /* Needs to be in here for Safari polyfill so background images work as expected. */\n",
       "                background-size: auto;\n",
       "            }\n",
       "            .progress-bar-interrupted, .progress-bar-interrupted::-webkit-progress-bar {\n",
       "                background: #F44336;\n",
       "            }\n",
       "        </style>\n",
       "      <progress value='6' class='' max='6' style='width:300px; height:20px; vertical-align: middle;'></progress>\n",
       "      100.00% [6/6 00:00<00:00 logp = -4.339e+04]\n",
       "    </div>\n",
       "    "
      ],
      "text/plain": [
       "<IPython.core.display.HTML object>"
      ]
     },
     "metadata": {},
     "output_type": "display_data"
    },
    {
     "name": "stdout",
     "output_type": "stream",
     "text": [
      "\n"
     ]
    },
    {
     "name": "stderr",
     "output_type": "stream",
     "text": [
      "message: Optimization terminated successfully.\n",
      "logp: -43393.50905324319 -> -43393.472586755684\n",
      "optimizing logp for variables: [log_ror]\n"
     ]
    },
    {
     "data": {
      "text/html": [
       "\n",
       "    <div>\n",
       "        <style>\n",
       "            /* Turns off some styling */\n",
       "            progress {\n",
       "                /* gets rid of default border in Firefox and Opera. */\n",
       "                border: none;\n",
       "                /* Needs to be in here for Safari polyfill so background images work as expected. */\n",
       "                background-size: auto;\n",
       "            }\n",
       "            .progress-bar-interrupted, .progress-bar-interrupted::-webkit-progress-bar {\n",
       "                background: #F44336;\n",
       "            }\n",
       "        </style>\n",
       "      <progress value='5' class='' max='5' style='width:300px; height:20px; vertical-align: middle;'></progress>\n",
       "      100.00% [5/5 00:00<00:00 logp = -4.339e+04]\n",
       "    </div>\n",
       "    "
      ],
      "text/plain": [
       "<IPython.core.display.HTML object>"
      ]
     },
     "metadata": {},
     "output_type": "display_data"
    },
    {
     "name": "stderr",
     "output_type": "stream",
     "text": [
      "message: Optimization terminated successfully.\n",
      "logp: -43393.472586755684 -> -43393.47258186376\n"
     ]
    },
    {
     "name": "stdout",
     "output_type": "stream",
     "text": [
      "\n"
     ]
    },
    {
     "name": "stderr",
     "output_type": "stream",
     "text": [
      "optimizing logp for variables: [b]\n"
     ]
    },
    {
     "data": {
      "text/html": [
       "\n",
       "    <div>\n",
       "        <style>\n",
       "            /* Turns off some styling */\n",
       "            progress {\n",
       "                /* gets rid of default border in Firefox and Opera. */\n",
       "                border: none;\n",
       "                /* Needs to be in here for Safari polyfill so background images work as expected. */\n",
       "                background-size: auto;\n",
       "            }\n",
       "            .progress-bar-interrupted, .progress-bar-interrupted::-webkit-progress-bar {\n",
       "                background: #F44336;\n",
       "            }\n",
       "        </style>\n",
       "      <progress value='7' class='' max='7' style='width:300px; height:20px; vertical-align: middle;'></progress>\n",
       "      100.00% [7/7 00:00<00:00 logp = -4.339e+04]\n",
       "    </div>\n",
       "    "
      ],
      "text/plain": [
       "<IPython.core.display.HTML object>"
      ]
     },
     "metadata": {},
     "output_type": "display_data"
    },
    {
     "name": "stdout",
     "output_type": "stream",
     "text": [
      "\n"
     ]
    },
    {
     "name": "stderr",
     "output_type": "stream",
     "text": [
      "message: Optimization terminated successfully.\n",
      "logp: -43393.47258186376 -> -43393.4720389803\n",
      "optimizing logp for variables: [t0, log_period]\n"
     ]
    },
    {
     "data": {
      "text/html": [
       "\n",
       "    <div>\n",
       "        <style>\n",
       "            /* Turns off some styling */\n",
       "            progress {\n",
       "                /* gets rid of default border in Firefox and Opera. */\n",
       "                border: none;\n",
       "                /* Needs to be in here for Safari polyfill so background images work as expected. */\n",
       "                background-size: auto;\n",
       "            }\n",
       "            .progress-bar-interrupted, .progress-bar-interrupted::-webkit-progress-bar {\n",
       "                background: #F44336;\n",
       "            }\n",
       "        </style>\n",
       "      <progress value='31' class='' max='31' style='width:300px; height:20px; vertical-align: middle;'></progress>\n",
       "      100.00% [31/31 00:00<00:00 logp = -4.339e+04]\n",
       "    </div>\n",
       "    "
      ],
      "text/plain": [
       "<IPython.core.display.HTML object>"
      ]
     },
     "metadata": {},
     "output_type": "display_data"
    },
    {
     "name": "stdout",
     "output_type": "stream",
     "text": [
      "\n"
     ]
    },
    {
     "name": "stderr",
     "output_type": "stream",
     "text": [
      "message: Desired error not necessarily achieved due to precision loss.\n",
      "logp: -43393.4720389803 -> -43393.47202744411\n",
      "optimizing logp for variables: [log_K]\n"
     ]
    },
    {
     "data": {
      "text/html": [
       "\n",
       "    <div>\n",
       "        <style>\n",
       "            /* Turns off some styling */\n",
       "            progress {\n",
       "                /* gets rid of default border in Firefox and Opera. */\n",
       "                border: none;\n",
       "                /* Needs to be in here for Safari polyfill so background images work as expected. */\n",
       "                background-size: auto;\n",
       "            }\n",
       "            .progress-bar-interrupted, .progress-bar-interrupted::-webkit-progress-bar {\n",
       "                background: #F44336;\n",
       "            }\n",
       "        </style>\n",
       "      <progress value='7' class='' max='7' style='width:300px; height:20px; vertical-align: middle;'></progress>\n",
       "      100.00% [7/7 00:00<00:00 logp = -4.339e+04]\n",
       "    </div>\n",
       "    "
      ],
      "text/plain": [
       "<IPython.core.display.HTML object>"
      ]
     },
     "metadata": {},
     "output_type": "display_data"
    },
    {
     "name": "stdout",
     "output_type": "stream",
     "text": [
      "\n"
     ]
    },
    {
     "name": "stderr",
     "output_type": "stream",
     "text": [
      "message: Optimization terminated successfully.\n",
      "logp: -43393.47202744411 -> -43393.461022801304\n",
      "optimizing logp for variables: [u]\n"
     ]
    },
    {
     "data": {
      "text/html": [
       "\n",
       "    <div>\n",
       "        <style>\n",
       "            /* Turns off some styling */\n",
       "            progress {\n",
       "                /* gets rid of default border in Firefox and Opera. */\n",
       "                border: none;\n",
       "                /* Needs to be in here for Safari polyfill so background images work as expected. */\n",
       "                background-size: auto;\n",
       "            }\n",
       "            .progress-bar-interrupted, .progress-bar-interrupted::-webkit-progress-bar {\n",
       "                background: #F44336;\n",
       "            }\n",
       "        </style>\n",
       "      <progress value='6' class='' max='6' style='width:300px; height:20px; vertical-align: middle;'></progress>\n",
       "      100.00% [6/6 00:00<00:00 logp = -4.339e+04]\n",
       "    </div>\n",
       "    "
      ],
      "text/plain": [
       "<IPython.core.display.HTML object>"
      ]
     },
     "metadata": {},
     "output_type": "display_data"
    },
    {
     "name": "stderr",
     "output_type": "stream",
     "text": [
      "message: Optimization terminated successfully.\n",
      "logp: -43393.461022801304 -> -43393.46101035765\n"
     ]
    },
    {
     "name": "stdout",
     "output_type": "stream",
     "text": [
      "\n"
     ]
    },
    {
     "name": "stderr",
     "output_type": "stream",
     "text": [
      "optimizing logp for variables: [log_ror]\n"
     ]
    },
    {
     "data": {
      "text/html": [
       "\n",
       "    <div>\n",
       "        <style>\n",
       "            /* Turns off some styling */\n",
       "            progress {\n",
       "                /* gets rid of default border in Firefox and Opera. */\n",
       "                border: none;\n",
       "                /* Needs to be in here for Safari polyfill so background images work as expected. */\n",
       "                background-size: auto;\n",
       "            }\n",
       "            .progress-bar-interrupted, .progress-bar-interrupted::-webkit-progress-bar {\n",
       "                background: #F44336;\n",
       "            }\n",
       "        </style>\n",
       "      <progress value='5' class='' max='5' style='width:300px; height:20px; vertical-align: middle;'></progress>\n",
       "      100.00% [5/5 00:00<00:00 logp = -4.339e+04]\n",
       "    </div>\n",
       "    "
      ],
      "text/plain": [
       "<IPython.core.display.HTML object>"
      ]
     },
     "metadata": {},
     "output_type": "display_data"
    },
    {
     "name": "stderr",
     "output_type": "stream",
     "text": [
      "message: Optimization terminated successfully.\n",
      "logp: -43393.46101035765 -> -43393.46099600551\n"
     ]
    },
    {
     "name": "stdout",
     "output_type": "stream",
     "text": [
      "\n"
     ]
    },
    {
     "name": "stderr",
     "output_type": "stream",
     "text": [
      "optimizing logp for variables: [b]\n"
     ]
    },
    {
     "data": {
      "text/html": [
       "\n",
       "    <div>\n",
       "        <style>\n",
       "            /* Turns off some styling */\n",
       "            progress {\n",
       "                /* gets rid of default border in Firefox and Opera. */\n",
       "                border: none;\n",
       "                /* Needs to be in here for Safari polyfill so background images work as expected. */\n",
       "                background-size: auto;\n",
       "            }\n",
       "            .progress-bar-interrupted, .progress-bar-interrupted::-webkit-progress-bar {\n",
       "                background: #F44336;\n",
       "            }\n",
       "        </style>\n",
       "      <progress value='5' class='' max='5' style='width:300px; height:20px; vertical-align: middle;'></progress>\n",
       "      100.00% [5/5 00:00<00:00 logp = -4.339e+04]\n",
       "    </div>\n",
       "    "
      ],
      "text/plain": [
       "<IPython.core.display.HTML object>"
      ]
     },
     "metadata": {},
     "output_type": "display_data"
    },
    {
     "name": "stderr",
     "output_type": "stream",
     "text": [
      "message: Optimization terminated successfully.\n",
      "logp: -43393.46099600551 -> -43393.46099535784\n"
     ]
    },
    {
     "name": "stdout",
     "output_type": "stream",
     "text": [
      "\n"
     ]
    },
    {
     "name": "stderr",
     "output_type": "stream",
     "text": [
      "optimizing logp for variables: [mean_flux]\n"
     ]
    },
    {
     "data": {
      "text/html": [
       "\n",
       "    <div>\n",
       "        <style>\n",
       "            /* Turns off some styling */\n",
       "            progress {\n",
       "                /* gets rid of default border in Firefox and Opera. */\n",
       "                border: none;\n",
       "                /* Needs to be in here for Safari polyfill so background images work as expected. */\n",
       "                background-size: auto;\n",
       "            }\n",
       "            .progress-bar-interrupted, .progress-bar-interrupted::-webkit-progress-bar {\n",
       "                background: #F44336;\n",
       "            }\n",
       "        </style>\n",
       "      <progress value='4' class='' max='4' style='width:300px; height:20px; vertical-align: middle;'></progress>\n",
       "      100.00% [4/4 00:00<00:00 logp = -4.339e+04]\n",
       "    </div>\n",
       "    "
      ],
      "text/plain": [
       "<IPython.core.display.HTML object>"
      ]
     },
     "metadata": {},
     "output_type": "display_data"
    },
    {
     "name": "stderr",
     "output_type": "stream",
     "text": [
      "message: Optimization terminated successfully.\n",
      "logp: -43393.46099535784 -> -43393.46099535408\n"
     ]
    },
    {
     "name": "stdout",
     "output_type": "stream",
     "text": [
      "\n"
     ]
    },
    {
     "name": "stderr",
     "output_type": "stream",
     "text": [
      "optimizing logp for variables: [log_sigma_phot]\n"
     ]
    },
    {
     "data": {
      "text/html": [
       "\n",
       "    <div>\n",
       "        <style>\n",
       "            /* Turns off some styling */\n",
       "            progress {\n",
       "                /* gets rid of default border in Firefox and Opera. */\n",
       "                border: none;\n",
       "                /* Needs to be in here for Safari polyfill so background images work as expected. */\n",
       "                background-size: auto;\n",
       "            }\n",
       "            .progress-bar-interrupted, .progress-bar-interrupted::-webkit-progress-bar {\n",
       "                background: #F44336;\n",
       "            }\n",
       "        </style>\n",
       "      <progress value='2' class='' max='2' style='width:300px; height:20px; vertical-align: middle;'></progress>\n",
       "      100.00% [2/2 00:00<00:00 logp = -4.339e+04]\n",
       "    </div>\n",
       "    "
      ],
      "text/plain": [
       "<IPython.core.display.HTML object>"
      ]
     },
     "metadata": {},
     "output_type": "display_data"
    },
    {
     "name": "stderr",
     "output_type": "stream",
     "text": [
      "message: Optimization terminated successfully.\n",
      "logp: -43393.46099535408 -> -43393.46099535408\n"
     ]
    },
    {
     "name": "stdout",
     "output_type": "stream",
     "text": [
      "\n"
     ]
    },
    {
     "name": "stderr",
     "output_type": "stream",
     "text": [
      "optimizing logp for variables: [log_tau_phot_gp, log_rho_phot_gp, log_sigma_phot_gp]\n"
     ]
    },
    {
     "data": {
      "text/html": [
       "\n",
       "    <div>\n",
       "        <style>\n",
       "            /* Turns off some styling */\n",
       "            progress {\n",
       "                /* gets rid of default border in Firefox and Opera. */\n",
       "                border: none;\n",
       "                /* Needs to be in here for Safari polyfill so background images work as expected. */\n",
       "                background-size: auto;\n",
       "            }\n",
       "            .progress-bar-interrupted, .progress-bar-interrupted::-webkit-progress-bar {\n",
       "                background: #F44336;\n",
       "            }\n",
       "        </style>\n",
       "      <progress value='7' class='' max='7' style='width:300px; height:20px; vertical-align: middle;'></progress>\n",
       "      100.00% [7/7 00:00<00:00 logp = -4.339e+04]\n",
       "    </div>\n",
       "    "
      ],
      "text/plain": [
       "<IPython.core.display.HTML object>"
      ]
     },
     "metadata": {},
     "output_type": "display_data"
    },
    {
     "name": "stdout",
     "output_type": "stream",
     "text": [
      "\n"
     ]
    },
    {
     "name": "stderr",
     "output_type": "stream",
     "text": [
      "message: Optimization terminated successfully.\n",
      "logp: -43393.46099535408 -> -43393.46099534381\n",
      "optimizing logp for variables: [log_sigma_rv, gamma_rv, log_tau_phot_gp, log_rho_phot_gp, log_sigma_phot_gp, log_sigma_phot, ecs, b, log_ror, log_period, log_K, t0, rstar, mstar, u, mean_flux]\n"
     ]
    },
    {
     "data": {
      "text/html": [
       "\n",
       "    <div>\n",
       "        <style>\n",
       "            /* Turns off some styling */\n",
       "            progress {\n",
       "                /* gets rid of default border in Firefox and Opera. */\n",
       "                border: none;\n",
       "                /* Needs to be in here for Safari polyfill so background images work as expected. */\n",
       "                background-size: auto;\n",
       "            }\n",
       "            .progress-bar-interrupted, .progress-bar-interrupted::-webkit-progress-bar {\n",
       "                background: #F44336;\n",
       "            }\n",
       "        </style>\n",
       "      <progress value='74' class='' max='74' style='width:300px; height:20px; vertical-align: middle;'></progress>\n",
       "      100.00% [74/74 00:00<00:00 logp = -4.339e+04]\n",
       "    </div>\n",
       "    "
      ],
      "text/plain": [
       "<IPython.core.display.HTML object>"
      ]
     },
     "metadata": {},
     "output_type": "display_data"
    },
    {
     "name": "stdout",
     "output_type": "stream",
     "text": [
      "\n"
     ]
    },
    {
     "name": "stderr",
     "output_type": "stream",
     "text": [
      "message: Desired error not necessarily achieved due to precision loss.\n",
      "logp: -43393.46099534381 -> -43393.45631108795\n"
     ]
    },
    {
     "name": "stdout",
     "output_type": "stream",
     "text": [
      "Updating planet properties to MAP solution values\n"
     ]
    }
   ],
   "source": [
    "if COMPARE_AIC_FOR_TREND:\n",
    "    \n",
    "    model_no_trend = toi.fit_phot_and_rvs(rv_trend=False)\n",
    "    aic_no_trend = toi.compute_AIC(model_no_trend)\n",
    "    msg_str = 'No trend AIC = '\n",
    "    print(msg_str + f'{aic_no_trend:.2f}')\n",
    "    \n",
    "    model_yes_trend = toi.fit_phot_and_rvs(rv_trend=True)\n",
    "    aic_yes_trend = toi.compute_AIC(model_yes_trend)\n",
    "    msg_str = 'Yes trend AIC = '\n",
    "    print(msg_str + f'{aic_yes_trend:.2f}')\n",
    "    \n",
    "    aic_difference = aic_no_trend - aic_yes_trend\n",
    "    print(aic_difference)\n",
    "    if aic_difference < 0:\n",
    "        print(\"Trend is not preferred\")\n",
    "    else:\n",
    "        print(\"Trend is preferred\")\n",
    "\n",
    "    if aic_difference < 0:\n",
    "        model = toi.fit_phot_and_rvs(rv_trend=False)\n",
    "    else:\n",
    "        model = toi.fit_phot_and_rvs(rv_trend=True)\n",
    "    aic = toi.compute_AIC(model)\n",
    "    \n",
    "elif NO_TREND_OVERRIDE:\n",
    "    msg_str = 'No trend AIC = '\n",
    "    model = toi.fit_phot_and_rvs(rv_trend=False)\n",
    "    aic = toi.compute_AIC(model)\n",
    "    print(msg_str + f'{aic:.2f}')\n",
    "    \n",
    "elif YES_TREND_OVERRIDE:\n",
    "    msg_str = 'Yes trend AIC = '\n",
    "    model = toi.fit_phot_and_rvs(rv_trend=True)\n",
    "    aic = toi.compute_AIC(model)\n",
    "    print(msg_str + f'{aic:.2f}')"
   ]
  },
  {
   "cell_type": "markdown",
   "id": "1345ce02",
   "metadata": {},
   "source": [
    "## Create initial MAP solution plots"
   ]
  },
  {
   "cell_type": "code",
   "execution_count": 24,
   "id": "24391420",
   "metadata": {
    "scrolled": true
   },
   "outputs": [
    {
     "name": "stdout",
     "output_type": "stream",
     "text": [
      "TOI-669 stacked periodogram plot saved to TOI-669/periodograms/TOI-669_stacked_periodogram.png\n"
     ]
    }
   ],
   "source": [
    "stacked_pers = StackedPeriodogram(toi, min_period=1, max_period=1000, samples_per_peak=500)\n",
    "stacked_pers.plot(save_fname=f\"{toi.name.replace(' ', '_')}_stacked_periodogram\", overwrite=True)"
   ]
  },
  {
   "cell_type": "code",
   "execution_count": 4,
   "id": "ef94bbfb",
   "metadata": {},
   "outputs": [
    {
     "name": "stdout",
     "output_type": "stream",
     "text": [
      "TOI-669 stacked periodogram plot saved to TOI-669/periodograms/TOI-669_stacked_periodogram_new.png\n"
     ]
    }
   ],
   "source": [
    "stacked_pers = StackedPeriodogram(toi, min_period=1, max_period=1000, samples_per_peak=1000, \n",
    "                                  plot_phot_vert_line=False, plot_phot_faps=True, faps=[0.001])\n",
    "stacked_pers.plot(save_fname=f\"{toi.name.replace(' ', '_')}_stacked_periodogram_new\", overwrite=True)"
   ]
  },
  {
   "cell_type": "code",
   "execution_count": 25,
   "id": "c1c03dfe",
   "metadata": {
    "scrolled": true
   },
   "outputs": [
    {
     "name": "stdout",
     "output_type": "stream",
     "text": [
      "Initial transit fit plots saved to TOI-669/joint_model/plotting\n"
     ]
    }
   ],
   "source": [
    "quick_transit_plot(toi)"
   ]
  },
  {
   "cell_type": "code",
   "execution_count": 26,
   "id": "301dab70",
   "metadata": {
    "scrolled": false
   },
   "outputs": [
    {
     "name": "stdout",
     "output_type": "stream",
     "text": [
      "Plotting individual transits for TOI-669 b\n"
     ]
    },
    {
     "name": "stderr",
     "output_type": "stream",
     "text": [
      "100%|████████████████████████████████████████████████████████████████████████████████████████████████████████████████████████| 9/9 [00:04<00:00,  2.12it/s]\n"
     ]
    },
    {
     "name": "stdout",
     "output_type": "stream",
     "text": [
      "Individual transit plots saved to TOI-669/joint_model/plotting/individual_transits/\n"
     ]
    }
   ],
   "source": [
    "plot_individual_transits(toi)"
   ]
  },
  {
   "cell_type": "code",
   "execution_count": 27,
   "id": "1a6f0a8e",
   "metadata": {},
   "outputs": [
    {
     "name": "stdout",
     "output_type": "stream",
     "text": [
      "Phase plot saved to TOI-669/joint_model/plotting/TOI-669_pdcsap_flux_phase_plot.png\n"
     ]
    }
   ],
   "source": [
    "phase_plot(os.path.join(toi.model_dir, 'plotting'), \n",
    "                f\"{toi.name} {toi.flux_origin.replace('_', ' ')}\", \n",
    "                'Relative flux [ppt]', \n",
    "                toi.cleaned_time.values, toi.cleaned_flux.values, toi.prot, 0)"
   ]
  },
  {
   "cell_type": "code",
   "execution_count": 4,
   "id": "752820af",
   "metadata": {},
   "outputs": [],
   "source": [
    "use_broken_x_axis = len(find_breaks(toi.cleaned_time.values)) > 0"
   ]
  },
  {
   "cell_type": "code",
   "execution_count": 7,
   "id": "78bda93f",
   "metadata": {},
   "outputs": [],
   "source": [
    "phot_plot = ThreePanelPhotPlot(toi,\n",
    "                                use_broken_x_axis=use_broken_x_axis, \n",
    "                                plot_random_transit_draws=False,\n",
    "                                num_random_transit_draws=0)"
   ]
  },
  {
   "cell_type": "code",
   "execution_count": 8,
   "id": "4d56fbb3",
   "metadata": {
    "scrolled": false
   },
   "outputs": [
    {
     "name": "stdout",
     "output_type": "stream",
     "text": [
      "Creating three panel plot...\n",
      "break_ind = 15172\n",
      "Gap between 23.78 and 711.14 BTJD\n",
      "=======\n",
      "Photometry model plot saved to TOI-669/joint_model/plotting/TOI-669_phot_model_test.png\n"
     ]
    }
   ],
   "source": [
    "phot_plot.plot(save_fname=f\"{toi.name.replace(' ', '_')}_phot_model\", \n",
    "               overwrite=True)"
   ]
  },
  {
   "cell_type": "code",
   "execution_count": 13,
   "id": "8a7b0617",
   "metadata": {},
   "outputs": [],
   "source": [
    "rv_plot = RVPlot(toi,\n",
    "                plot_random_orbit_draws=False,\n",
    "                num_random_orbit_draws=0,\n",
    "                rms_yscale_phase_folded_panels=True)"
   ]
  },
  {
   "cell_type": "code",
   "execution_count": 14,
   "id": "92640eeb",
   "metadata": {
    "scrolled": true
   },
   "outputs": [
    {
     "name": "stdout",
     "output_type": "stream",
     "text": [
      "Creating RV plot...\n",
      "RV model plot saved to TOI-669/joint_model/plotting/TOI-669_rv_model_test.png\n"
     ]
    }
   ],
   "source": [
    "rv_plot.plot(save_fname=f\"{toi.name.replace(' ', '_')}_rv_model_test\", \n",
    "             overwrite=True)"
   ]
  },
  {
   "cell_type": "code",
   "execution_count": null,
   "id": "8cdea030",
   "metadata": {},
   "outputs": [],
   "source": [
    "if INCLUDE_SVALUE_GP:\n",
    "    svalue_plot = SvaluePlot(toi)\n",
    "    svalue_plot.gp_plot(save_fname=f\"{toi.name.replace(' ', '_')}_svalue\", overwrite=True)"
   ]
  },
  {
   "cell_type": "code",
   "execution_count": 35,
   "id": "473fab6b",
   "metadata": {},
   "outputs": [
    {
     "data": {
      "text/plain": [
       "{'mean_flux': array(0.02229859),\n",
       " 'u_quadlimbdark__': array([-0.55635801,  0.62603561]),\n",
       " 'mstar_interval__': array(-0.84013549),\n",
       " 'rstar_interval__': array(-0.70618696),\n",
       " 't0': array([368.34062457]),\n",
       " 'log_K': array([1.47968305]),\n",
       " 'log_period': array([1.37248773]),\n",
       " 'log_ror': array([-3.69045334]),\n",
       " 'b_interval__': array([-0.69282484]),\n",
       " 'ecs_unitdisk+interval__': array([[-0.44732519],\n",
       "        [-0.04673187]]),\n",
       " 'log_sigma_phot': array(-3.49045057),\n",
       " 'log_sigma_phot_gp': array(-2.86548364),\n",
       " 'log_rho_phot_gp_interval__': array(-0.59459995),\n",
       " 'log_tau_phot_gp_interval__': array(-0.83453554),\n",
       " 'gamma_rv_interval__': array([-0.09064735]),\n",
       " 'log_sigma_rv_interval__': array([0.51926151]),\n",
       " 'u': array([ 0.78666164, -0.18301392]),\n",
       " 'mstar': array(0.90451874),\n",
       " 'rstar': array(0.99132579),\n",
       " 'K': array([4.39155354]),\n",
       " 'period': array([3.94515296]),\n",
       " 'ror': array([0.02496068]),\n",
       " 'r_pl': array([0.02474417]),\n",
       " 'b': array([0.33340497]),\n",
       " 'ecs': array([[-0.22000617],\n",
       "        [-0.02278929]]),\n",
       " 'ecc': array([0.04892207]),\n",
       " 'omega': array([-3.03837601]),\n",
       " 'log_rho_phot_gp': array(1.88397627),\n",
       " 'log_tau_phot_gp': array(1.6037313),\n",
       " 'gamma_rv': array([-2.26463333]),\n",
       " 'log_sigma_rv': array([1.01932779]),\n",
       " 'sigma_rv': array([2.77133121])}"
      ]
     },
     "execution_count": 35,
     "metadata": {},
     "output_type": "execute_result"
    }
   ],
   "source": [
    "toi.map_soln"
   ]
  },
  {
   "cell_type": "markdown",
   "id": "1c9477c1",
   "metadata": {},
   "source": [
    "# Run the sampling"
   ]
  },
  {
   "cell_type": "code",
   "execution_count": 36,
   "id": "6b90c994",
   "metadata": {
    "scrolled": false
   },
   "outputs": [
    {
     "name": "stdout",
     "output_type": "stream",
     "text": [
      "Multiprocessing context has already been set. Continuing.\n"
     ]
    },
    {
     "name": "stderr",
     "output_type": "stream",
     "text": [
      "Multiprocess sampling (2 chains in 2 jobs)\n",
      "NUTS: [log_sigma_rv, gamma_rv, log_tau_phot_gp, log_rho_phot_gp, log_sigma_phot_gp, log_sigma_phot, ecs, b, log_ror, log_period, log_K, t0, rstar, mstar, u, mean_flux]\n",
      "WARNING (theano.tensor.blas): Using NumPy C-API based implementation for BLAS functions.\n",
      "WARNING (theano.tensor.blas): Using NumPy C-API based implementation for BLAS functions.\n"
     ]
    },
    {
     "data": {
      "text/html": [
       "\n",
       "    <div>\n",
       "        <style>\n",
       "            /* Turns off some styling */\n",
       "            progress {\n",
       "                /* gets rid of default border in Firefox and Opera. */\n",
       "                border: none;\n",
       "                /* Needs to be in here for Safari polyfill so background images work as expected. */\n",
       "                background-size: auto;\n",
       "            }\n",
       "            .progress-bar-interrupted, .progress-bar-interrupted::-webkit-progress-bar {\n",
       "                background: #F44336;\n",
       "            }\n",
       "        </style>\n",
       "      <progress value='4000' class='' max='4000' style='width:300px; height:20px; vertical-align: middle;'></progress>\n",
       "      100.00% [4000/4000 11:07<00:00 Sampling 2 chains, 0 divergences]\n",
       "    </div>\n",
       "    "
      ],
      "text/plain": [
       "<IPython.core.display.HTML object>"
      ]
     },
     "metadata": {},
     "output_type": "display_data"
    },
    {
     "name": "stderr",
     "output_type": "stream",
     "text": [
      "Sampling 2 chains for 1_000 tune and 1_000 draw iterations (2_000 + 2_000 draws total) took 677 seconds.\n"
     ]
    }
   ],
   "source": [
    "flat_samps = toi.run_sampling(model, toi.map_soln, tune=8000, draws=6000, chains=8, overwrite=True)"
   ]
  },
  {
   "cell_type": "code",
   "execution_count": 37,
   "id": "d4753ff0",
   "metadata": {},
   "outputs": [],
   "source": [
    "chains = pd.read_csv(toi.chains_path)"
   ]
  },
  {
   "cell_type": "code",
   "execution_count": 39,
   "id": "6bcd1a23",
   "metadata": {
    "scrolled": true
   },
   "outputs": [
    {
     "data": {
      "text/html": [
       "<div>\n",
       "<style scoped>\n",
       "    .dataframe tbody tr th:only-of-type {\n",
       "        vertical-align: middle;\n",
       "    }\n",
       "\n",
       "    .dataframe tbody tr th {\n",
       "        vertical-align: top;\n",
       "    }\n",
       "\n",
       "    .dataframe thead th {\n",
       "        text-align: right;\n",
       "    }\n",
       "</style>\n",
       "<table border=\"1\" class=\"dataframe\">\n",
       "  <thead>\n",
       "    <tr style=\"text-align: right;\">\n",
       "      <th></th>\n",
       "      <th>mean_flux</th>\n",
       "      <th>u_0</th>\n",
       "      <th>u_1</th>\n",
       "      <th>mstar</th>\n",
       "      <th>rstar</th>\n",
       "      <th>t0_b</th>\n",
       "      <th>log_K_b</th>\n",
       "      <th>K_b</th>\n",
       "      <th>log_period_b</th>\n",
       "      <th>period_b</th>\n",
       "      <th>...</th>\n",
       "      <th>b_b</th>\n",
       "      <th>ecc_b</th>\n",
       "      <th>omega_b</th>\n",
       "      <th>log_sigma_phot</th>\n",
       "      <th>log_sigma_phot_gp</th>\n",
       "      <th>log_rho_phot_gp</th>\n",
       "      <th>log_tau_phot_gp</th>\n",
       "      <th>gamma_rv_HIRES</th>\n",
       "      <th>log_sigma_rv_b</th>\n",
       "      <th>sigma_rv_HIRES</th>\n",
       "    </tr>\n",
       "  </thead>\n",
       "  <tbody>\n",
       "    <tr>\n",
       "      <th>0</th>\n",
       "      <td>0.057046</td>\n",
       "      <td>0.870397</td>\n",
       "      <td>-0.052315</td>\n",
       "      <td>0.901561</td>\n",
       "      <td>0.998743</td>\n",
       "      <td>368.336983</td>\n",
       "      <td>1.688605</td>\n",
       "      <td>5.411928</td>\n",
       "      <td>1.372477</td>\n",
       "      <td>3.945110</td>\n",
       "      <td>...</td>\n",
       "      <td>0.487156</td>\n",
       "      <td>0.191913</td>\n",
       "      <td>-2.598944</td>\n",
       "      <td>-3.197330</td>\n",
       "      <td>-2.752547</td>\n",
       "      <td>1.292012</td>\n",
       "      <td>0.384010</td>\n",
       "      <td>-2.586452</td>\n",
       "      <td>1.217411</td>\n",
       "      <td>3.378431</td>\n",
       "    </tr>\n",
       "    <tr>\n",
       "      <th>1</th>\n",
       "      <td>-0.002990</td>\n",
       "      <td>1.374686</td>\n",
       "      <td>-0.610181</td>\n",
       "      <td>0.873615</td>\n",
       "      <td>1.008341</td>\n",
       "      <td>368.338285</td>\n",
       "      <td>1.289646</td>\n",
       "      <td>3.631501</td>\n",
       "      <td>1.372481</td>\n",
       "      <td>3.945127</td>\n",
       "      <td>...</td>\n",
       "      <td>0.192593</td>\n",
       "      <td>0.011498</td>\n",
       "      <td>0.734649</td>\n",
       "      <td>-4.512320</td>\n",
       "      <td>-2.542292</td>\n",
       "      <td>0.705009</td>\n",
       "      <td>0.368737</td>\n",
       "      <td>-1.729033</td>\n",
       "      <td>0.857072</td>\n",
       "      <td>2.356252</td>\n",
       "    </tr>\n",
       "    <tr>\n",
       "      <th>2</th>\n",
       "      <td>-0.009544</td>\n",
       "      <td>1.314764</td>\n",
       "      <td>-0.641906</td>\n",
       "      <td>0.817043</td>\n",
       "      <td>0.992532</td>\n",
       "      <td>368.339227</td>\n",
       "      <td>1.369948</td>\n",
       "      <td>3.935144</td>\n",
       "      <td>1.372486</td>\n",
       "      <td>3.945145</td>\n",
       "      <td>...</td>\n",
       "      <td>0.174981</td>\n",
       "      <td>0.043303</td>\n",
       "      <td>2.166973</td>\n",
       "      <td>-3.690127</td>\n",
       "      <td>-2.513424</td>\n",
       "      <td>1.924457</td>\n",
       "      <td>2.599958</td>\n",
       "      <td>-1.720216</td>\n",
       "      <td>0.831024</td>\n",
       "      <td>2.295668</td>\n",
       "    </tr>\n",
       "    <tr>\n",
       "      <th>3</th>\n",
       "      <td>0.024854</td>\n",
       "      <td>0.381942</td>\n",
       "      <td>0.442625</td>\n",
       "      <td>0.990883</td>\n",
       "      <td>1.013161</td>\n",
       "      <td>368.341569</td>\n",
       "      <td>1.367572</td>\n",
       "      <td>3.925807</td>\n",
       "      <td>1.372480</td>\n",
       "      <td>3.945123</td>\n",
       "      <td>...</td>\n",
       "      <td>0.288747</td>\n",
       "      <td>0.068763</td>\n",
       "      <td>-2.392056</td>\n",
       "      <td>-3.567141</td>\n",
       "      <td>-2.811456</td>\n",
       "      <td>1.297490</td>\n",
       "      <td>0.205428</td>\n",
       "      <td>-2.369642</td>\n",
       "      <td>1.098992</td>\n",
       "      <td>3.001139</td>\n",
       "    </tr>\n",
       "    <tr>\n",
       "      <th>4</th>\n",
       "      <td>0.026887</td>\n",
       "      <td>0.849052</td>\n",
       "      <td>-0.372153</td>\n",
       "      <td>0.936395</td>\n",
       "      <td>0.988617</td>\n",
       "      <td>368.337827</td>\n",
       "      <td>1.492798</td>\n",
       "      <td>4.449526</td>\n",
       "      <td>1.372482</td>\n",
       "      <td>3.945129</td>\n",
       "      <td>...</td>\n",
       "      <td>0.199543</td>\n",
       "      <td>0.042582</td>\n",
       "      <td>3.070979</td>\n",
       "      <td>-3.091452</td>\n",
       "      <td>-2.624315</td>\n",
       "      <td>0.774273</td>\n",
       "      <td>0.047623</td>\n",
       "      <td>-2.573689</td>\n",
       "      <td>0.914589</td>\n",
       "      <td>2.495750</td>\n",
       "    </tr>\n",
       "  </tbody>\n",
       "</table>\n",
       "<p>5 rows × 23 columns</p>\n",
       "</div>"
      ],
      "text/plain": [
       "   mean_flux       u_0       u_1     mstar     rstar        t0_b   log_K_b  \\\n",
       "0   0.057046  0.870397 -0.052315  0.901561  0.998743  368.336983  1.688605   \n",
       "1  -0.002990  1.374686 -0.610181  0.873615  1.008341  368.338285  1.289646   \n",
       "2  -0.009544  1.314764 -0.641906  0.817043  0.992532  368.339227  1.369948   \n",
       "3   0.024854  0.381942  0.442625  0.990883  1.013161  368.341569  1.367572   \n",
       "4   0.026887  0.849052 -0.372153  0.936395  0.988617  368.337827  1.492798   \n",
       "\n",
       "        K_b  log_period_b  period_b  ...       b_b     ecc_b   omega_b  \\\n",
       "0  5.411928      1.372477  3.945110  ...  0.487156  0.191913 -2.598944   \n",
       "1  3.631501      1.372481  3.945127  ...  0.192593  0.011498  0.734649   \n",
       "2  3.935144      1.372486  3.945145  ...  0.174981  0.043303  2.166973   \n",
       "3  3.925807      1.372480  3.945123  ...  0.288747  0.068763 -2.392056   \n",
       "4  4.449526      1.372482  3.945129  ...  0.199543  0.042582  3.070979   \n",
       "\n",
       "   log_sigma_phot  log_sigma_phot_gp  log_rho_phot_gp  log_tau_phot_gp  \\\n",
       "0       -3.197330          -2.752547         1.292012         0.384010   \n",
       "1       -4.512320          -2.542292         0.705009         0.368737   \n",
       "2       -3.690127          -2.513424         1.924457         2.599958   \n",
       "3       -3.567141          -2.811456         1.297490         0.205428   \n",
       "4       -3.091452          -2.624315         0.774273         0.047623   \n",
       "\n",
       "   gamma_rv_HIRES  log_sigma_rv_b  sigma_rv_HIRES  \n",
       "0       -2.586452        1.217411        3.378431  \n",
       "1       -1.729033        0.857072        2.356252  \n",
       "2       -1.720216        0.831024        2.295668  \n",
       "3       -2.369642        1.098992        3.001139  \n",
       "4       -2.573689        0.914589        2.495750  \n",
       "\n",
       "[5 rows x 23 columns]"
      ]
     },
     "execution_count": 39,
     "metadata": {},
     "output_type": "execute_result"
    }
   ],
   "source": [
    "chains.head()"
   ]
  },
  {
   "cell_type": "markdown",
   "id": "3a54edab",
   "metadata": {},
   "source": [
    "## Add derived quantities to the chains for convenience"
   ]
  },
  {
   "cell_type": "code",
   "execution_count": 40,
   "id": "455f76f9",
   "metadata": {},
   "outputs": [],
   "source": [
    "toi.add_derived_quantities_to_chains()"
   ]
  },
  {
   "cell_type": "code",
   "execution_count": 41,
   "id": "239f81a8",
   "metadata": {},
   "outputs": [],
   "source": [
    "chains_d = pd.read_csv(toi.chains_derived_path)"
   ]
  },
  {
   "cell_type": "code",
   "execution_count": 44,
   "id": "0cd0ddcd",
   "metadata": {
    "scrolled": false
   },
   "outputs": [
    {
     "data": {
      "text/html": [
       "<div>\n",
       "<style scoped>\n",
       "    .dataframe tbody tr th:only-of-type {\n",
       "        vertical-align: middle;\n",
       "    }\n",
       "\n",
       "    .dataframe tbody tr th {\n",
       "        vertical-align: top;\n",
       "    }\n",
       "\n",
       "    .dataframe thead th {\n",
       "        text-align: right;\n",
       "    }\n",
       "</style>\n",
       "<table border=\"1\" class=\"dataframe\">\n",
       "  <thead>\n",
       "    <tr style=\"text-align: right;\">\n",
       "      <th></th>\n",
       "      <th>mean_flux</th>\n",
       "      <th>u_0</th>\n",
       "      <th>u_1</th>\n",
       "      <th>mstar</th>\n",
       "      <th>rstar</th>\n",
       "      <th>t0_b</th>\n",
       "      <th>log_K_b</th>\n",
       "      <th>K_b</th>\n",
       "      <th>log_period_b</th>\n",
       "      <th>period_b</th>\n",
       "      <th>...</th>\n",
       "      <th>i_rad_b</th>\n",
       "      <th>i_deg_b</th>\n",
       "      <th>mp_b</th>\n",
       "      <th>rho_b</th>\n",
       "      <th>dur_day_b</th>\n",
       "      <th>dur_hr_b</th>\n",
       "      <th>dur_circ_day_b</th>\n",
       "      <th>dur_circ_hr_b</th>\n",
       "      <th>Rtau_Petigura2020_b</th>\n",
       "      <th>tsm_b</th>\n",
       "    </tr>\n",
       "  </thead>\n",
       "  <tbody>\n",
       "    <tr>\n",
       "      <th>0</th>\n",
       "      <td>0.057046</td>\n",
       "      <td>0.870397</td>\n",
       "      <td>-0.052315</td>\n",
       "      <td>0.901561</td>\n",
       "      <td>0.998743</td>\n",
       "      <td>368.336983</td>\n",
       "      <td>1.688605</td>\n",
       "      <td>5.411928</td>\n",
       "      <td>1.372477</td>\n",
       "      <td>3.945110</td>\n",
       "      <td>...</td>\n",
       "      <td>1.522844</td>\n",
       "      <td>87.252548</td>\n",
       "      <td>12.261985</td>\n",
       "      <td>3.574918</td>\n",
       "      <td>0.117833</td>\n",
       "      <td>2.827989</td>\n",
       "      <td>0.123761</td>\n",
       "      <td>2.970273</td>\n",
       "      <td>0.952098</td>\n",
       "      <td>31.019143</td>\n",
       "    </tr>\n",
       "    <tr>\n",
       "      <th>1</th>\n",
       "      <td>-0.002990</td>\n",
       "      <td>1.374686</td>\n",
       "      <td>-0.610181</td>\n",
       "      <td>0.873615</td>\n",
       "      <td>1.008341</td>\n",
       "      <td>368.338285</td>\n",
       "      <td>1.289646</td>\n",
       "      <td>3.631501</td>\n",
       "      <td>1.372481</td>\n",
       "      <td>3.945127</td>\n",
       "      <td>...</td>\n",
       "      <td>1.551461</td>\n",
       "      <td>88.892170</td>\n",
       "      <td>8.201260</td>\n",
       "      <td>2.572087</td>\n",
       "      <td>0.122973</td>\n",
       "      <td>2.951354</td>\n",
       "      <td>0.126278</td>\n",
       "      <td>3.030664</td>\n",
       "      <td>0.973831</td>\n",
       "      <td>40.166048</td>\n",
       "    </tr>\n",
       "    <tr>\n",
       "      <th>2</th>\n",
       "      <td>-0.009544</td>\n",
       "      <td>1.314764</td>\n",
       "      <td>-0.641906</td>\n",
       "      <td>0.817043</td>\n",
       "      <td>0.992532</td>\n",
       "      <td>368.339227</td>\n",
       "      <td>1.369948</td>\n",
       "      <td>3.935144</td>\n",
       "      <td>1.372486</td>\n",
       "      <td>3.945145</td>\n",
       "      <td>...</td>\n",
       "      <td>1.553115</td>\n",
       "      <td>88.986912</td>\n",
       "      <td>8.491418</td>\n",
       "      <td>2.863103</td>\n",
       "      <td>0.120715</td>\n",
       "      <td>2.897159</td>\n",
       "      <td>0.127106</td>\n",
       "      <td>3.050541</td>\n",
       "      <td>0.949720</td>\n",
       "      <td>37.229876</td>\n",
       "    </tr>\n",
       "    <tr>\n",
       "      <th>3</th>\n",
       "      <td>0.024854</td>\n",
       "      <td>0.381942</td>\n",
       "      <td>0.442625</td>\n",
       "      <td>0.990883</td>\n",
       "      <td>1.013161</td>\n",
       "      <td>368.341569</td>\n",
       "      <td>1.367572</td>\n",
       "      <td>3.925807</td>\n",
       "      <td>1.372480</td>\n",
       "      <td>3.945123</td>\n",
       "      <td>...</td>\n",
       "      <td>1.542865</td>\n",
       "      <td>88.399643</td>\n",
       "      <td>9.622308</td>\n",
       "      <td>2.814951</td>\n",
       "      <td>0.121935</td>\n",
       "      <td>2.926442</td>\n",
       "      <td>0.121650</td>\n",
       "      <td>2.919591</td>\n",
       "      <td>1.002346</td>\n",
       "      <td>34.708513</td>\n",
       "    </tr>\n",
       "    <tr>\n",
       "      <th>4</th>\n",
       "      <td>0.026887</td>\n",
       "      <td>0.849052</td>\n",
       "      <td>-0.372153</td>\n",
       "      <td>0.936395</td>\n",
       "      <td>0.988617</td>\n",
       "      <td>368.337827</td>\n",
       "      <td>1.492798</td>\n",
       "      <td>4.449526</td>\n",
       "      <td>1.372482</td>\n",
       "      <td>3.945129</td>\n",
       "      <td>...</td>\n",
       "      <td>1.551604</td>\n",
       "      <td>88.900376</td>\n",
       "      <td>10.515606</td>\n",
       "      <td>3.540406</td>\n",
       "      <td>0.118079</td>\n",
       "      <td>2.833905</td>\n",
       "      <td>0.120960</td>\n",
       "      <td>2.903033</td>\n",
       "      <td>0.976188</td>\n",
       "      <td>30.753073</td>\n",
       "    </tr>\n",
       "  </tbody>\n",
       "</table>\n",
       "<p>5 rows × 42 columns</p>\n",
       "</div>"
      ],
      "text/plain": [
       "   mean_flux       u_0       u_1     mstar     rstar        t0_b   log_K_b  \\\n",
       "0   0.057046  0.870397 -0.052315  0.901561  0.998743  368.336983  1.688605   \n",
       "1  -0.002990  1.374686 -0.610181  0.873615  1.008341  368.338285  1.289646   \n",
       "2  -0.009544  1.314764 -0.641906  0.817043  0.992532  368.339227  1.369948   \n",
       "3   0.024854  0.381942  0.442625  0.990883  1.013161  368.341569  1.367572   \n",
       "4   0.026887  0.849052 -0.372153  0.936395  0.988617  368.337827  1.492798   \n",
       "\n",
       "        K_b  log_period_b  period_b  ...   i_rad_b    i_deg_b       mp_b  \\\n",
       "0  5.411928      1.372477  3.945110  ...  1.522844  87.252548  12.261985   \n",
       "1  3.631501      1.372481  3.945127  ...  1.551461  88.892170   8.201260   \n",
       "2  3.935144      1.372486  3.945145  ...  1.553115  88.986912   8.491418   \n",
       "3  3.925807      1.372480  3.945123  ...  1.542865  88.399643   9.622308   \n",
       "4  4.449526      1.372482  3.945129  ...  1.551604  88.900376  10.515606   \n",
       "\n",
       "      rho_b  dur_day_b  dur_hr_b  dur_circ_day_b  dur_circ_hr_b  \\\n",
       "0  3.574918   0.117833  2.827989        0.123761       2.970273   \n",
       "1  2.572087   0.122973  2.951354        0.126278       3.030664   \n",
       "2  2.863103   0.120715  2.897159        0.127106       3.050541   \n",
       "3  2.814951   0.121935  2.926442        0.121650       2.919591   \n",
       "4  3.540406   0.118079  2.833905        0.120960       2.903033   \n",
       "\n",
       "   Rtau_Petigura2020_b      tsm_b  \n",
       "0             0.952098  31.019143  \n",
       "1             0.973831  40.166048  \n",
       "2             0.949720  37.229876  \n",
       "3             1.002346  34.708513  \n",
       "4             0.976188  30.753073  \n",
       "\n",
       "[5 rows x 42 columns]"
      ]
     },
     "execution_count": 44,
     "metadata": {},
     "output_type": "execute_result"
    }
   ],
   "source": [
    "chains_d.head()"
   ]
  },
  {
   "cell_type": "code",
   "execution_count": 50,
   "id": "2b5cbbe8",
   "metadata": {},
   "outputs": [],
   "source": [
    "def print_med_and_errs(col, units):\n",
    "    med = np.median(chains_d[col])\n",
    "    q = np.quantile(chains_d[col], [0.16, 0.86])\n",
    "    err = np.median(np.abs(q - med))\n",
    "    print(f\"{col} = {med:.2f} +/- {err:.2f} {units}\")"
   ]
  },
  {
   "cell_type": "code",
   "execution_count": 51,
   "id": "f5fe22f3",
   "metadata": {},
   "outputs": [
    {
     "name": "stdout",
     "output_type": "stream",
     "text": [
      "rp_b = 2.61 +/- 0.16 Rearth\n",
      "mp_b = 9.84 +/- 1.48 Mearth\n",
      "rho_b = 3.01 +/- 0.74 gcc\n",
      "K_b = 4.29 +/- 0.64 m/s\n",
      "tsm_b = 35.50 +/- 8.10 \n"
     ]
    }
   ],
   "source": [
    "print_med_and_errs('rp_b', 'Rearth')\n",
    "print_med_and_errs('mp_b', 'Mearth')\n",
    "print_med_and_errs('rho_b', 'gcc')\n",
    "print_med_and_errs('K_b', 'm/s')\n",
    "print_med_and_errs('tsm_b', '')"
   ]
  },
  {
   "cell_type": "markdown",
   "id": "f9a34f76",
   "metadata": {},
   "source": [
    "## Produce a quick-look summary .csv file"
   ]
  },
  {
   "cell_type": "code",
   "execution_count": 42,
   "id": "353a4f03",
   "metadata": {
    "scrolled": true
   },
   "outputs": [
    {
     "name": "stdout",
     "output_type": "stream",
     "text": [
      "Quick look summary table saved to TOI-669/TOI-669_quick_look_summary.csv.\n"
     ]
    }
   ],
   "source": [
    "quick_look_summary(toi, chains_d)"
   ]
  },
  {
   "cell_type": "code",
   "execution_count": null,
   "id": "a17338de",
   "metadata": {},
   "outputs": [],
   "source": [
    "df_summary_fname = f\"{toi.name.replace(' ', '_')}{OUTPUT_DIR_SUFFIX}\"\n",
    "df_summary_fname += f\"/{toi.name.replace(' ', '_')}_quick_look_summary.csv\""
   ]
  },
  {
   "cell_type": "markdown",
   "id": "d8d0800c",
   "metadata": {},
   "source": [
    "## Create some nice looking plots"
   ]
  },
  {
   "cell_type": "code",
   "execution_count": 4,
   "id": "5452817b",
   "metadata": {},
   "outputs": [],
   "source": [
    "phot_plot = ThreePanelPhotPlot(toi,\n",
    "                                use_broken_x_axis=True, \n",
    "                                plot_random_transit_draws=True,\n",
    "                                num_random_transit_draws=25, \n",
    "                                df_summary_fname=df_summary_fname)"
   ]
  },
  {
   "cell_type": "code",
   "execution_count": 5,
   "id": "32d93db1",
   "metadata": {
    "scrolled": true
   },
   "outputs": [
    {
     "name": "stdout",
     "output_type": "stream",
     "text": [
      "Creating three panel plot...\n",
      "break_ind = 15172\n",
      "Gap between 23.78 and 711.14 BTJD\n",
      "=======\n",
      "Plotting 25 random draws of phase-folded transit for planet b...\n"
     ]
    },
    {
     "name": "stderr",
     "output_type": "stream",
     "text": [
      "100%|█████████████████████████████████████████████████████████████████████████████████████████████████████████████████████████████████████████████████████████████████████████████████████████████████████████████████████████| 25/25 [18:32<00:00, 44.49s/it]\n"
     ]
    },
    {
     "name": "stdout",
     "output_type": "stream",
     "text": [
      "Photometry model plot saved to TOI-669/joint_model/plotting/TOI-669_phot_model_w_samples_lower_res_175.png\n"
     ]
    }
   ],
   "source": [
    "phot_plot.plot(save_fname=f\"{toi.name.replace(' ', '_')}_phot_model_w_samples\", \n",
    "               overwrite=True)"
   ]
  },
  {
   "cell_type": "code",
   "execution_count": 15,
   "id": "0164f1ef",
   "metadata": {},
   "outputs": [],
   "source": [
    "rv_plot = RVPlot(toi,\n",
    "                plot_random_orbit_draws=True,\n",
    "                num_random_orbit_draws=25, \n",
    "                df_summary_fname=df_summary_fname)"
   ]
  },
  {
   "cell_type": "code",
   "execution_count": 16,
   "id": "d6855d8b",
   "metadata": {
    "scrolled": true
   },
   "outputs": [
    {
     "name": "stdout",
     "output_type": "stream",
     "text": [
      "Creating RV plot...\n",
      "Plotting 25 random draws of phase-folded RV orbit for planet b...\n"
     ]
    },
    {
     "name": "stderr",
     "output_type": "stream",
     "text": [
      "100%|█████████████████████████████████████████████████████████████████████████████████████████████████████████████████████████████████████████████████████████████████████████████████████████████████████████████████████████| 25/25 [03:24<00:00,  8.18s/it]\n"
     ]
    },
    {
     "name": "stdout",
     "output_type": "stream",
     "text": [
      "RV model plot saved to TOI-669/joint_model/plotting/TOI-669_rv_model_w_samples.png\n"
     ]
    }
   ],
   "source": [
    "rv_plot.plot(save_fname=f\"{toi.name.replace(' ', '_')}_rv_model_w_samples\", overwrite=True)"
   ]
  },
  {
   "cell_type": "markdown",
   "id": "2ca3af4f",
   "metadata": {},
   "source": [
    "## Make the corner plots"
   ]
  },
  {
   "cell_type": "code",
   "execution_count": 52,
   "id": "9a8168ec",
   "metadata": {
    "scrolled": false
   },
   "outputs": [
    {
     "name": "stderr",
     "output_type": "stream",
     "text": [
      "WARNING:root:Too few points to create valid contours\n"
     ]
    },
    {
     "name": "stdout",
     "output_type": "stream",
     "text": [
      "TOI-669 corner plot saved to TOI-669/joint_model/plotting/TOI-669_corner_plot.png\n",
      "TOI-669 RV instrument parameters corner plot saved to TOI-669/joint_model/plotting/TOI-669_RV_instrument_parameters_corner_plot.png\n",
      "TOI-669 b measured parameters corner plot saved to TOI-669/joint_model/plotting/TOI-669_b_measured_parameters_corner_plot.png\n",
      "TOI-669 b derived parameters corner plot saved to TOI-669/joint_model/plotting/TOI-669_b_derived_parameters_corner_plot.png\n"
     ]
    }
   ],
   "source": [
    "plot_joint_corners(toi, chains_d, overwrite=True)"
   ]
  },
  {
   "cell_type": "markdown",
   "id": "8ce56df4",
   "metadata": {},
   "source": [
    "# Pickle the map solution and the TOI object"
   ]
  },
  {
   "cell_type": "code",
   "execution_count": 53,
   "id": "2395516e",
   "metadata": {},
   "outputs": [],
   "source": [
    "with open(os.path.join(toi.output_dir, f\"{toi.name.replace(' ', '_')}_map_soln.pkl\"), \"wb\") as map_soln_fname:\n",
    "    pickle.dump(toi.map_soln, map_soln_fname, protocol=pickle.HIGHEST_PROTOCOL)"
   ]
  },
  {
   "cell_type": "code",
   "execution_count": 54,
   "id": "902099dd",
   "metadata": {},
   "outputs": [],
   "source": [
    "with open(os.path.join(toi.output_dir, f\"{toi.name.replace(' ', '_')}_toi_obj.pkl\"), \"wb\") as toi_fname:\n",
    "    pickle.dump(toi, toi_fname, protocol=pickle.HIGHEST_PROTOCOL)"
   ]
  },
  {
   "cell_type": "markdown",
   "id": "2979a6e0",
   "metadata": {},
   "source": [
    "## START HERE IF YOU'RE LOADING PICKLES\n",
    "\n",
    "e.g., for post-processing of figures from a previous run"
   ]
  },
  {
   "cell_type": "code",
   "execution_count": 2,
   "id": "5044b755",
   "metadata": {},
   "outputs": [],
   "source": [
    "with open('TOI-669/TOI-669_toi_obj.pkl', 'rb') as f:\n",
    "    toi = pickle.load(f)"
   ]
  },
  {
   "cell_type": "code",
   "execution_count": 3,
   "id": "a3600c71",
   "metadata": {},
   "outputs": [],
   "source": [
    "df_summary_fname=f\"{toi.name.replace(' ', '_')}/{toi.name.replace(' ', '_')}_quick_look_summary.csv\""
   ]
  },
  {
   "cell_type": "code",
   "execution_count": 6,
   "id": "9b6f6cc1",
   "metadata": {},
   "outputs": [
    {
     "name": "stdout",
     "output_type": "stream",
     "text": [
      "Creating RV plot...\n",
      "Plotting 25 random draws of phase-folded RV orbit for planet b...\n"
     ]
    },
    {
     "name": "stderr",
     "output_type": "stream",
     "text": [
      "100%|█████████████████████████████████████████████████████████████████████████████████████████████████████████████████████████████████████████████████████████████████████████████████████████████████████████████████████████| 25/25 [00:22<00:00,  1.09it/s]\n"
     ]
    },
    {
     "name": "stdout",
     "output_type": "stream",
     "text": [
      "RV model plot saved to TOI-669/joint_model/plotting/TOI-669_rv_model_w_samples_better_tick_spacing.png\n"
     ]
    }
   ],
   "source": [
    "rv_plot = RVPlot(toi,\n",
    "                plot_random_orbit_draws=True,\n",
    "                num_random_orbit_draws=25, \n",
    "                df_summary_fname=df_summary_fname,\n",
    "                residuals_ytick_spacing=(10, 5))\n",
    "\n",
    "rv_plot.plot(save_fname=f\"{toi.name.replace(' ', '_')}_rv_model_w_samples_better_tick_spacing\", overwrite=True)"
   ]
  },
  {
   "cell_type": "code",
   "execution_count": null,
   "id": "bedc8075",
   "metadata": {},
   "outputs": [],
   "source": []
  }
 ],
 "metadata": {
  "kernelspec": {
   "display_name": "Python 3 (ipykernel)",
   "language": "python",
   "name": "python3"
  },
  "language_info": {
   "codemirror_mode": {
    "name": "ipython",
    "version": 3
   },
   "file_extension": ".py",
   "mimetype": "text/x-python",
   "name": "python",
   "nbconvert_exporter": "python",
   "pygments_lexer": "ipython3",
   "version": "3.8.12"
  }
 },
 "nbformat": 4,
 "nbformat_minor": 5
}
